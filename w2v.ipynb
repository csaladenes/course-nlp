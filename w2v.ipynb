{
 "cells": [
  {
   "cell_type": "markdown",
   "source": [
    "# word2vec\n",
    "_*WARNING*_: Uncased model.\n",
    "<a target=\"_blank\" href=\"https://colab.research.google.com/github/crow-intelligence/mccLMs/blob/main/notebooks/w2v.ipynb\">\n",
    "  <img src=\"https://colab.research.google.com/assets/colab-badge.svg\" alt=\"Open In Colab\"/>\n",
    "</a>"
   ],
   "metadata": {
    "collapsed": false
   }
  },
  {
   "cell_type": "markdown",
   "source": [
    "## Setting up the environment\n",
    "### Installing libraries"
   ],
   "metadata": {
    "collapsed": false
   }
  },
  {
   "cell_type": "code",
   "execution_count": 1,
   "outputs": [
    {
     "name": "stdout",
     "output_type": "stream",
     "text": [
      "Requirement already satisfied: numpy in /home/zoltanvarju/PycharmProjects/mccLangMods/venv/lib/python3.10/site-packages (1.23.5)\r\n",
      "Requirement already satisfied: gensim in /home/zoltanvarju/PycharmProjects/mccLangMods/venv/lib/python3.10/site-packages (4.2.0)\r\n",
      "Requirement already satisfied: scipy in /home/zoltanvarju/PycharmProjects/mccLangMods/venv/lib/python3.10/site-packages (1.9.3)\r\n",
      "Requirement already satisfied: smart-open>=1.8.1 in /home/zoltanvarju/PycharmProjects/mccLangMods/venv/lib/python3.10/site-packages (from gensim) (5.2.1)\r\n"
     ]
    }
   ],
   "source": [
    "!pip install numpy gensim scipy"
   ],
   "metadata": {
    "collapsed": false
   }
  },
  {
   "cell_type": "code",
   "execution_count": null,
   "outputs": [],
   "source": [
    "# runs only on Colab\n",
    "from google.colab import drive\n",
    "\n",
    "drive.mount('/content/gdrive')"
   ],
   "metadata": {
    "collapsed": false
   }
  },
  {
   "cell_type": "markdown",
   "source": [
    "Put the models in a folder, e.g. `Colab Notebooks/mcc_langmods`. Let's see if\n",
    "we can access the models."
   ],
   "metadata": {
    "collapsed": false
   }
  },
  {
   "cell_type": "code",
   "execution_count": null,
   "outputs": [],
   "source": [
    "# runs only on Colab, don't forget to modify the path if it is necessary\n",
    "!ls \"/content/gdrive/My Drive/Colab Notebooks/mcc_langmods\""
   ],
   "metadata": {
    "collapsed": false
   }
  },
  {
   "cell_type": "markdown",
   "source": [
    "### Importing libs"
   ],
   "metadata": {
    "collapsed": false
   }
  },
  {
   "cell_type": "code",
   "execution_count": 2,
   "outputs": [],
   "source": [
    "import numpy as np\n",
    "from gensim.models import Word2Vec\n",
    "from scipy.spatial.distance import cosine"
   ],
   "metadata": {
    "collapsed": false
   }
  },
  {
   "cell_type": "markdown",
   "source": [
    "### Load the model"
   ],
   "metadata": {
    "collapsed": false
   }
  },
  {
   "cell_type": "code",
   "execution_count": 3,
   "outputs": [],
   "source": [
    "#model = Word2Vec.load(\"/content/gdrive/My Drive/Colab Notebooks/mcc_langmods/huwikiw2v.model\") # uncomment this on Colab\n",
    "model = Word2Vec.load(\"../models/word2vec/huwiki/huwikiw2v.model\")"
   ],
   "metadata": {
    "collapsed": false
   }
  },
  {
   "cell_type": "markdown",
   "source": [
    "## Distance btw words"
   ],
   "metadata": {
    "collapsed": false
   }
  },
  {
   "cell_type": "code",
   "execution_count": 5,
   "outputs": [
    {
     "name": "stdout",
     "output_type": "stream",
     "text": [
      "0.7447610795497894 0.7468229532241821 0.8045070618391037\n"
     ]
    }
   ],
   "source": [
    "wd1 = model.wv[\"konyha\"]\n",
    "wd2 = model.wv[\"nappali\"]\n",
    "wd3 = model.wv[\"kutya\"]\n",
    "\n",
    "dist1 = cosine(wd1, wd2)\n",
    "dist2 = cosine(wd1, wd3)\n",
    "dist3 = cosine(wd2, wd3)\n",
    "\n",
    "print(dist1, dist2, dist3)"
   ],
   "metadata": {
    "collapsed": false
   }
  },
  {
   "cell_type": "markdown",
   "source": [
    "## Most similar n"
   ],
   "metadata": {
    "collapsed": false
   }
  },
  {
   "cell_type": "code",
   "execution_count": null,
   "outputs": [],
   "source": [
    "model.wv.most_similar(\"magyarország\")"
   ],
   "metadata": {
    "collapsed": false,
    "pycharm": {
     "is_executing": true
    }
   }
  },
  {
   "cell_type": "code",
   "execution_count": 6,
   "outputs": [
    {
     "data": {
      "text/plain": "[('intelligens', 0.7614231109619141),\n ('eszes', 0.7354796528816223),\n ('jószívű', 0.7349128127098083),\n ('talpraesett', 0.7261552214622498),\n ('segítőkész', 0.7179881930351257),\n ('lusta', 0.7119282484054565),\n ('arrogáns', 0.7116178274154663),\n ('türelmes', 0.7105022668838501),\n ('életvidám', 0.7099079489707947),\n ('ostoba', 0.7077210545539856)]"
     },
     "execution_count": 6,
     "metadata": {},
     "output_type": "execute_result"
    }
   ],
   "source": [
    "model.wv.most_similar(\"okos\")"
   ],
   "metadata": {
    "collapsed": false
   }
  },
  {
   "cell_type": "code",
   "execution_count": 14,
   "outputs": [
    {
     "data": {
      "text/plain": "[('férfi', 0.6632471680641174),\n ('lány', 0.6553252339363098),\n ('nőnek', 0.6439251899719238),\n ('nőt', 0.6230816841125488),\n ('hölgy', 0.6105863451957703),\n ('kislány', 0.5905145406723022),\n ('prostituált', 0.5827950239181519),\n ('férj', 0.576102614402771),\n ('nővel', 0.571646511554718),\n ('asszony', 0.5697410106658936)]"
     },
     "execution_count": 14,
     "metadata": {},
     "output_type": "execute_result"
    }
   ],
   "source": [
    "model.wv.most_similar(\"nő\")"
   ],
   "metadata": {
    "collapsed": false
   }
  },
  {
   "cell_type": "code",
   "execution_count": 15,
   "outputs": [
    {
     "data": {
      "text/plain": "[('női', 0.6863895058631897),\n ('nő', 0.6632471680641174),\n ('lány', 0.6356451511383057),\n ('férfinak', 0.5831312537193298),\n ('hízelgéseit', 0.5807878375053406),\n ('foxley', 0.5770962238311768),\n ('férfiak', 0.5766656994819641),\n ('fiú', 0.566322386264801),\n ('dendromus', 0.556483805179596),\n ('nőt', 0.5551514625549316)]"
     },
     "execution_count": 15,
     "metadata": {},
     "output_type": "execute_result"
    }
   ],
   "source": [
    "model.wv.most_similar(\"férfi\")"
   ],
   "metadata": {
    "collapsed": false
   }
  },
  {
   "cell_type": "code",
   "execution_count": 22,
   "outputs": [
    {
     "data": {
      "text/plain": "[('tanítónő', 0.8241266012191772),\n ('óvónő', 0.7353753447532654),\n ('zenetanár', 0.7333495616912842),\n ('énektanár', 0.73185133934021),\n ('titkárnő', 0.7318354845046997),\n ('fogorvos', 0.7279180884361267),\n ('ápolónő', 0.7182940244674683),\n ('gyermekorvos', 0.7147420048713684),\n ('matematikatanár', 0.7110388278961182),\n ('történelemtanár', 0.7031906843185425)]"
     },
     "execution_count": 22,
     "metadata": {},
     "output_type": "execute_result"
    }
   ],
   "source": [
    "model.wv.most_similar(\"tanárnő\")"
   ],
   "metadata": {
    "collapsed": false
   }
  },
  {
   "cell_type": "code",
   "execution_count": 32,
   "outputs": [
    {
     "data": {
      "text/plain": "[('arizona', 0.4412522315979004),\n ('wisconsin', 0.4405654966831207),\n ('wyoming', 0.4379573464393616),\n ('texas', 0.42722415924072266),\n ('tosoh', 0.4267592430114746),\n ('arizonai', 0.4262962341308594),\n ('alaszka', 0.4253736138343811),\n ('iowai', 0.42463257908821106),\n ('atlanta', 0.4240458011627197),\n ('illinois', 0.4238594174385071)]"
     },
     "execution_count": 32,
     "metadata": {},
     "output_type": "execute_result"
    }
   ],
   "source": [
    "model.wv.most_similar(\"usa\", 30)"
   ],
   "metadata": {
    "collapsed": false
   }
  },
  {
   "cell_type": "code",
   "execution_count": 31,
   "outputs": [
    {
     "data": {
      "text/plain": "[('kuhn', 0.5129098296165466),\n ('michelson', 0.503953754901886),\n ('riemann', 0.5002152323722839),\n ('tarski', 0.4994814991950989),\n ('feynman', 0.4970559775829315),\n ('kutatócsoportja', 0.49287426471710205),\n ('boltzmann', 0.4907926321029663),\n ('heisenberg', 0.48998430371284485),\n ('camus', 0.4830838441848755),\n ('gauss', 0.47720739245414734)]"
     },
     "execution_count": 31,
     "metadata": {},
     "output_type": "execute_result"
    }
   ],
   "source": [
    "model.wv.most_similar(\"einstein\", 30)"
   ],
   "metadata": {
    "collapsed": false
   }
  },
  {
   "cell_type": "code",
   "execution_count": 30,
   "outputs": [
    {
     "data": {
      "text/plain": "[('irak', 0.8596559166908264),\n ('palesztina', 0.8481760621070862),\n ('irán', 0.830843448638916),\n ('afganisztán', 0.8263782858848572),\n ('líbia', 0.8185052275657654),\n ('jemen', 0.8127948045730591),\n ('perzsia', 0.8119108080863953),\n ('libanon', 0.8049724698066711),\n ('egyiptom', 0.8025678396224976),\n ('szudán', 0.7885614037513733)]"
     },
     "execution_count": 30,
     "metadata": {},
     "output_type": "execute_result"
    }
   ],
   "source": [
    "model.wv.most_similar(\"szíria\")"
   ],
   "metadata": {
    "collapsed": false
   }
  },
  {
   "cell_type": "code",
   "execution_count": 34,
   "outputs": [
    {
     "data": {
      "text/plain": "[('bunyevác', 0.5411573648452759),\n ('beás', 0.5004923343658447),\n ('szintó', 0.4975469708442688),\n ('csángó', 0.48059946298599243),\n ('sokác', 0.4610114097595215),\n ('mordvin', 0.4581056535243988),\n ('romazene', 0.4565681219100952),\n ('népzenéért', 0.45374393463134766),\n ('crnagorác', 0.45115745067596436),\n ('néptánc', 0.4498978853225708)]"
     },
     "execution_count": 34,
     "metadata": {},
     "output_type": "execute_result"
    }
   ],
   "source": [
    "model.wv.most_similar(\"cigány\", 30)"
   ],
   "metadata": {
    "collapsed": false
   }
  },
  {
   "cell_type": "code",
   "execution_count": 35,
   "outputs": [
    {
     "data": {
      "text/plain": "[('jelcin', 0.8129861950874329),\n ('medvegyev', 0.7785225510597229),\n ('zelenszkij', 0.7655805945396423),\n ('gorbacsov', 0.7481301426887512),\n ('putyint', 0.7434632778167725),\n ('lukasenka', 0.7308225631713867),\n ('brezsnyev', 0.726362943649292),\n ('vlagyimir', 0.7142379283905029),\n ('nyikita', 0.7076168060302734),\n ('szaakasvili', 0.6996752023696899)]"
     },
     "execution_count": 35,
     "metadata": {},
     "output_type": "execute_result"
    }
   ],
   "source": [
    "model.wv.most_similar(\"putyin\")"
   ],
   "metadata": {
    "collapsed": false
   }
  },
  {
   "cell_type": "code",
   "execution_count": 37,
   "outputs": [
    {
     "data": {
      "text/plain": "[('neolitikum', 0.5368009805679321),\n ('államalapítás', 0.5364711880683899),\n ('tatárjárás', 0.5151563882827759),\n ('vaskor', 0.5147870779037476),\n ('kalandozások', 0.5114232897758484),\n ('népvándorlás', 0.5101991295814514),\n ('szarmata', 0.5036200881004333),\n ('honfoglalása', 0.5010976791381836),\n ('rézkor', 0.4985390901565552),\n ('hallstatt', 0.49757876992225647)]"
     },
     "execution_count": 37,
     "metadata": {},
     "output_type": "execute_result"
    }
   ],
   "source": [
    "model.wv.most_similar(\"honfoglalás\", 30)"
   ],
   "metadata": {
    "collapsed": false
   }
  },
  {
   "cell_type": "code",
   "execution_count": 39,
   "outputs": [
    {
     "data": {
      "text/plain": "[('tagállamok', 0.7512459754943848),\n ('unió', 0.7443146705627441),\n ('eurózóna', 0.741791844367981),\n ('imf', 0.7120097875595093),\n ('világbank', 0.6943157911300659),\n ('ensz', 0.693700909614563),\n ('monetáris', 0.6832709312438965),\n ('tagországok', 0.6784717440605164),\n ('ecowas', 0.6691056489944458),\n ('oecd', 0.6600017547607422)]"
     },
     "execution_count": 39,
     "metadata": {},
     "output_type": "execute_result"
    }
   ],
   "source": [
    "model.wv.most_similar(\"eu\")"
   ],
   "metadata": {
    "collapsed": false
   }
  },
  {
   "cell_type": "markdown",
   "source": [
    "## Analogies"
   ],
   "metadata": {
    "collapsed": false
   }
  },
  {
   "cell_type": "code",
   "execution_count": 7,
   "outputs": [],
   "source": [
    "def analogy(worda, wordb, wordc):\n",
    "    result = model.wv.most_similar(negative=[worda],\n",
    "                                positive=[wordb, wordc])\n",
    "    return result[0][0]"
   ],
   "metadata": {
    "collapsed": false
   }
  },
  {
   "cell_type": "code",
   "execution_count": 8,
   "outputs": [
    {
     "name": "stdout",
     "output_type": "stream",
     "text": [
      "berlin\n"
     ]
    }
   ],
   "source": [
    "print(analogy(\"magyarország\", \"budapest\", \"németország\"))"
   ],
   "metadata": {
    "collapsed": false
   }
  },
  {
   "cell_type": "code",
   "execution_count": 9,
   "outputs": [
    {
     "name": "stdout",
     "output_type": "stream",
     "text": [
      "ádámnak\n"
     ]
    }
   ],
   "source": [
    "print(analogy(\"istván\", \"istvánnak\", \"ádám\"))"
   ],
   "metadata": {
    "collapsed": false
   }
  },
  {
   "cell_type": "code",
   "execution_count": 13,
   "outputs": [
    {
     "name": "stdout",
     "output_type": "stream",
     "text": [
      "bájos\n"
     ]
    }
   ],
   "source": [
    "print(analogy(\"nagy\", \"kicsi\", \"szép\"))"
   ],
   "metadata": {
    "collapsed": false
   }
  },
  {
   "cell_type": "code",
   "execution_count": 45,
   "outputs": [
    {
     "name": "stdout",
     "output_type": "stream",
     "text": [
      "édesvízi\n"
     ]
    }
   ],
   "source": [
    "print(analogy(\"kutya\", \"emlős\", \"béka\"))"
   ],
   "metadata": {
    "collapsed": false
   }
  },
  {
   "cell_type": "code",
   "execution_count": 47,
   "outputs": [
    {
     "name": "stdout",
     "output_type": "stream",
     "text": [
      "monokróm\n"
     ]
    }
   ],
   "source": [
    "print(analogy(\"szék\", \"bútor\", \"toll\"))"
   ],
   "metadata": {
    "collapsed": false
   }
  },
  {
   "cell_type": "markdown",
   "source": [
    "## Odd one out"
   ],
   "metadata": {
    "collapsed": false
   }
  },
  {
   "cell_type": "code",
   "execution_count": null,
   "outputs": [],
   "source": [
    "def odd_one_out(*wds):\n",
    "    wd_vecs_list = [model.wv[wd] for wd in wds]\n",
    "    mean_v = np.mean(np.asarray(wd_vecs_list), axis=0)\n",
    "    dists = [abs(cosine(e, mean_v)) for e in wd_vecs_list]\n",
    "    mdist = max(dists)\n",
    "    midx = dists.index(mdist)\n",
    "    return wds[midx]"
   ],
   "metadata": {
    "collapsed": false
   }
  },
  {
   "cell_type": "code",
   "execution_count": null,
   "outputs": [],
   "source": [
    "print(odd_one_out(\"magyarország\", \"románia\", \"írország\", \"kolumbia\"))"
   ],
   "metadata": {
    "collapsed": false
   }
  },
  {
   "cell_type": "code",
   "execution_count": null,
   "outputs": [],
   "source": [
    "print(odd_one_out(\"alma\", \"körte\", \"paradicsom\", \"répa\"))"
   ],
   "metadata": {
    "collapsed": false
   }
  },
  {
   "cell_type": "code",
   "execution_count": null,
   "outputs": [],
   "source": [
    "print(odd_one_out(\"répa\", \"karalábé\", \"paprika\", \"paradicsom\"))"
   ],
   "metadata": {
    "collapsed": false
   }
  },
  {
   "cell_type": "markdown",
   "source": [
    "## Summary\n",
    "+ word2vec is well-known and pretty good at capturing semantic relations\n",
    "+ it is bad for semantically rich languages"
   ],
   "metadata": {
    "collapsed": false
   }
  }
 ],
 "metadata": {
  "kernelspec": {
   "display_name": "Python 3",
   "language": "python",
   "name": "python3"
  },
  "language_info": {
   "codemirror_mode": {
    "name": "ipython",
    "version": 2
   },
   "file_extension": ".py",
   "mimetype": "text/x-python",
   "name": "python",
   "nbconvert_exporter": "python",
   "pygments_lexer": "ipython2",
   "version": "2.7.6"
  }
 },
 "nbformat": 4,
 "nbformat_minor": 0
}
