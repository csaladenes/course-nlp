{
  "nbformat": 4,
  "nbformat_minor": 0,
  "metadata": {
    "colab": {
      "provenance": [],
      "collapsed_sections": [
        "udns5msg92Jf",
        "3TMNx3AaGgcM"
      ]
    },
    "kernelspec": {
      "name": "python3",
      "display_name": "Python 3"
    },
    "language_info": {
      "name": "python"
    },
    "widgets": {
      "application/vnd.jupyter.widget-state+json": {
        "f1d9661306864258ab88dd2756acc3c2": {
          "model_module": "@jupyter-widgets/controls",
          "model_name": "HBoxModel",
          "model_module_version": "1.5.0",
          "state": {
            "_dom_classes": [],
            "_model_module": "@jupyter-widgets/controls",
            "_model_module_version": "1.5.0",
            "_model_name": "HBoxModel",
            "_view_count": null,
            "_view_module": "@jupyter-widgets/controls",
            "_view_module_version": "1.5.0",
            "_view_name": "HBoxView",
            "box_style": "",
            "children": [
              "IPY_MODEL_07155f9122794d4b9ad525163b20c358",
              "IPY_MODEL_246a35d2ef614175ba9cba54b458a387",
              "IPY_MODEL_4a4c90b8a3df452ab715748295c46d01"
            ],
            "layout": "IPY_MODEL_c8d25f13fcd746a3a8eb14c3242fafe3"
          }
        },
        "07155f9122794d4b9ad525163b20c358": {
          "model_module": "@jupyter-widgets/controls",
          "model_name": "HTMLModel",
          "model_module_version": "1.5.0",
          "state": {
            "_dom_classes": [],
            "_model_module": "@jupyter-widgets/controls",
            "_model_module_version": "1.5.0",
            "_model_name": "HTMLModel",
            "_view_count": null,
            "_view_module": "@jupyter-widgets/controls",
            "_view_module_version": "1.5.0",
            "_view_name": "HTMLView",
            "description": "",
            "description_tooltip": null,
            "layout": "IPY_MODEL_708577cc28aa4438a278adeff642adb5",
            "placeholder": "​",
            "style": "IPY_MODEL_53b34c260f754be0bd79e198d9fedda0",
            "value": "100%"
          }
        },
        "246a35d2ef614175ba9cba54b458a387": {
          "model_module": "@jupyter-widgets/controls",
          "model_name": "FloatProgressModel",
          "model_module_version": "1.5.0",
          "state": {
            "_dom_classes": [],
            "_model_module": "@jupyter-widgets/controls",
            "_model_module_version": "1.5.0",
            "_model_name": "FloatProgressModel",
            "_view_count": null,
            "_view_module": "@jupyter-widgets/controls",
            "_view_module_version": "1.5.0",
            "_view_name": "ProgressView",
            "bar_style": "success",
            "description": "",
            "description_tooltip": null,
            "layout": "IPY_MODEL_c03316bdfca64388ae8866ff191f47c6",
            "max": 3,
            "min": 0,
            "orientation": "horizontal",
            "style": "IPY_MODEL_a4c9fd24693d42a585a2d04338f2bfa3",
            "value": 3
          }
        },
        "4a4c90b8a3df452ab715748295c46d01": {
          "model_module": "@jupyter-widgets/controls",
          "model_name": "HTMLModel",
          "model_module_version": "1.5.0",
          "state": {
            "_dom_classes": [],
            "_model_module": "@jupyter-widgets/controls",
            "_model_module_version": "1.5.0",
            "_model_name": "HTMLModel",
            "_view_count": null,
            "_view_module": "@jupyter-widgets/controls",
            "_view_module_version": "1.5.0",
            "_view_name": "HTMLView",
            "description": "",
            "description_tooltip": null,
            "layout": "IPY_MODEL_dfb67445cc6641f99045a5d40420c3de",
            "placeholder": "​",
            "style": "IPY_MODEL_cb9fe26bb54e4d6eb3744625803e5baa",
            "value": " 3/3 [00:00&lt;00:00,  4.02it/s]"
          }
        },
        "c8d25f13fcd746a3a8eb14c3242fafe3": {
          "model_module": "@jupyter-widgets/base",
          "model_name": "LayoutModel",
          "model_module_version": "1.2.0",
          "state": {
            "_model_module": "@jupyter-widgets/base",
            "_model_module_version": "1.2.0",
            "_model_name": "LayoutModel",
            "_view_count": null,
            "_view_module": "@jupyter-widgets/base",
            "_view_module_version": "1.2.0",
            "_view_name": "LayoutView",
            "align_content": null,
            "align_items": null,
            "align_self": null,
            "border": null,
            "bottom": null,
            "display": null,
            "flex": null,
            "flex_flow": null,
            "grid_area": null,
            "grid_auto_columns": null,
            "grid_auto_flow": null,
            "grid_auto_rows": null,
            "grid_column": null,
            "grid_gap": null,
            "grid_row": null,
            "grid_template_areas": null,
            "grid_template_columns": null,
            "grid_template_rows": null,
            "height": null,
            "justify_content": null,
            "justify_items": null,
            "left": null,
            "margin": null,
            "max_height": null,
            "max_width": null,
            "min_height": null,
            "min_width": null,
            "object_fit": null,
            "object_position": null,
            "order": null,
            "overflow": null,
            "overflow_x": null,
            "overflow_y": null,
            "padding": null,
            "right": null,
            "top": null,
            "visibility": null,
            "width": null
          }
        },
        "708577cc28aa4438a278adeff642adb5": {
          "model_module": "@jupyter-widgets/base",
          "model_name": "LayoutModel",
          "model_module_version": "1.2.0",
          "state": {
            "_model_module": "@jupyter-widgets/base",
            "_model_module_version": "1.2.0",
            "_model_name": "LayoutModel",
            "_view_count": null,
            "_view_module": "@jupyter-widgets/base",
            "_view_module_version": "1.2.0",
            "_view_name": "LayoutView",
            "align_content": null,
            "align_items": null,
            "align_self": null,
            "border": null,
            "bottom": null,
            "display": null,
            "flex": null,
            "flex_flow": null,
            "grid_area": null,
            "grid_auto_columns": null,
            "grid_auto_flow": null,
            "grid_auto_rows": null,
            "grid_column": null,
            "grid_gap": null,
            "grid_row": null,
            "grid_template_areas": null,
            "grid_template_columns": null,
            "grid_template_rows": null,
            "height": null,
            "justify_content": null,
            "justify_items": null,
            "left": null,
            "margin": null,
            "max_height": null,
            "max_width": null,
            "min_height": null,
            "min_width": null,
            "object_fit": null,
            "object_position": null,
            "order": null,
            "overflow": null,
            "overflow_x": null,
            "overflow_y": null,
            "padding": null,
            "right": null,
            "top": null,
            "visibility": null,
            "width": null
          }
        },
        "53b34c260f754be0bd79e198d9fedda0": {
          "model_module": "@jupyter-widgets/controls",
          "model_name": "DescriptionStyleModel",
          "model_module_version": "1.5.0",
          "state": {
            "_model_module": "@jupyter-widgets/controls",
            "_model_module_version": "1.5.0",
            "_model_name": "DescriptionStyleModel",
            "_view_count": null,
            "_view_module": "@jupyter-widgets/base",
            "_view_module_version": "1.2.0",
            "_view_name": "StyleView",
            "description_width": ""
          }
        },
        "c03316bdfca64388ae8866ff191f47c6": {
          "model_module": "@jupyter-widgets/base",
          "model_name": "LayoutModel",
          "model_module_version": "1.2.0",
          "state": {
            "_model_module": "@jupyter-widgets/base",
            "_model_module_version": "1.2.0",
            "_model_name": "LayoutModel",
            "_view_count": null,
            "_view_module": "@jupyter-widgets/base",
            "_view_module_version": "1.2.0",
            "_view_name": "LayoutView",
            "align_content": null,
            "align_items": null,
            "align_self": null,
            "border": null,
            "bottom": null,
            "display": null,
            "flex": null,
            "flex_flow": null,
            "grid_area": null,
            "grid_auto_columns": null,
            "grid_auto_flow": null,
            "grid_auto_rows": null,
            "grid_column": null,
            "grid_gap": null,
            "grid_row": null,
            "grid_template_areas": null,
            "grid_template_columns": null,
            "grid_template_rows": null,
            "height": null,
            "justify_content": null,
            "justify_items": null,
            "left": null,
            "margin": null,
            "max_height": null,
            "max_width": null,
            "min_height": null,
            "min_width": null,
            "object_fit": null,
            "object_position": null,
            "order": null,
            "overflow": null,
            "overflow_x": null,
            "overflow_y": null,
            "padding": null,
            "right": null,
            "top": null,
            "visibility": null,
            "width": null
          }
        },
        "a4c9fd24693d42a585a2d04338f2bfa3": {
          "model_module": "@jupyter-widgets/controls",
          "model_name": "ProgressStyleModel",
          "model_module_version": "1.5.0",
          "state": {
            "_model_module": "@jupyter-widgets/controls",
            "_model_module_version": "1.5.0",
            "_model_name": "ProgressStyleModel",
            "_view_count": null,
            "_view_module": "@jupyter-widgets/base",
            "_view_module_version": "1.2.0",
            "_view_name": "StyleView",
            "bar_color": null,
            "description_width": ""
          }
        },
        "dfb67445cc6641f99045a5d40420c3de": {
          "model_module": "@jupyter-widgets/base",
          "model_name": "LayoutModel",
          "model_module_version": "1.2.0",
          "state": {
            "_model_module": "@jupyter-widgets/base",
            "_model_module_version": "1.2.0",
            "_model_name": "LayoutModel",
            "_view_count": null,
            "_view_module": "@jupyter-widgets/base",
            "_view_module_version": "1.2.0",
            "_view_name": "LayoutView",
            "align_content": null,
            "align_items": null,
            "align_self": null,
            "border": null,
            "bottom": null,
            "display": null,
            "flex": null,
            "flex_flow": null,
            "grid_area": null,
            "grid_auto_columns": null,
            "grid_auto_flow": null,
            "grid_auto_rows": null,
            "grid_column": null,
            "grid_gap": null,
            "grid_row": null,
            "grid_template_areas": null,
            "grid_template_columns": null,
            "grid_template_rows": null,
            "height": null,
            "justify_content": null,
            "justify_items": null,
            "left": null,
            "margin": null,
            "max_height": null,
            "max_width": null,
            "min_height": null,
            "min_width": null,
            "object_fit": null,
            "object_position": null,
            "order": null,
            "overflow": null,
            "overflow_x": null,
            "overflow_y": null,
            "padding": null,
            "right": null,
            "top": null,
            "visibility": null,
            "width": null
          }
        },
        "cb9fe26bb54e4d6eb3744625803e5baa": {
          "model_module": "@jupyter-widgets/controls",
          "model_name": "DescriptionStyleModel",
          "model_module_version": "1.5.0",
          "state": {
            "_model_module": "@jupyter-widgets/controls",
            "_model_module_version": "1.5.0",
            "_model_name": "DescriptionStyleModel",
            "_view_count": null,
            "_view_module": "@jupyter-widgets/base",
            "_view_module_version": "1.2.0",
            "_view_name": "StyleView",
            "description_width": ""
          }
        }
      }
    }
  },
  "cells": [
    {
      "cell_type": "markdown",
      "source": [
        "# Table of content"
      ],
      "metadata": {
        "id": "udns5msg92Jf"
      }
    },
    {
      "cell_type": "markdown",
      "source": [
        "- Problem Statement\n",
        "- Dataset\n",
        "  - IMDB - 25000\n",
        "  - fist use only a sample/fraciton of the data - 1%\n",
        "  - basic exploration of the data \n",
        "- Text to Number \n",
        "  - preprocess - clean/tokenize/encode\n",
        "  - Bag-Of-Words vs Sequential models\n",
        "- Bayes - occurence frequency\n",
        " - Bayes\n",
        " - Naive Bayes\n",
        " - Word sentiment visualization\n",
        "- Linear Regression - term-document matrix\n",
        " - Sparse matrix representations\n",
        " - Bigrams\n",
        " - Trigrams\n",
        " - why not go 10 grams - exponential number, large combination appear rarely - so they can carry less information, not enough information\n",
        "- Huggingface model"
      ],
      "metadata": {
        "id": "IpUBxRLz88-B"
      }
    },
    {
      "cell_type": "markdown",
      "source": [
        "# Problem Statement"
      ],
      "metadata": {
        "id": "3TMNx3AaGgcM"
      }
    },
    {
      "cell_type": "markdown",
      "source": [
        "**Sentiment Analysis**\n",
        "\n",
        "Binary classification (positive vs negative sentiment) of movie reviews.\n",
        "\n",
        "Techinques:\n",
        "- Classical machine learning techniques (Naive Bayes, Logistic Regression) \n",
        "- Deep learning techniques (Recurrent Neural Networks, Embeddings) \n",
        "  \n",
        "Learning Type:\n",
        "- supervised learning - using labelled dataset\n",
        " - data => model (based on patterns)\n",
        " - training vs validation vs test\n",
        "- unsupervised learning\n",
        "\n",
        "\n",
        "Evaluation:\n",
        "- accuracy - on test set (correcly predicted number / total number)\n",
        "- false positives / false negatives\n",
        "\n",
        "\n",
        "\n",
        "\n",
        "\n",
        "\n",
        "\n"
      ],
      "metadata": {
        "id": "8M_Gw8doGkJb"
      }
    },
    {
      "cell_type": "markdown",
      "source": [
        "# Dataset"
      ],
      "metadata": {
        "id": "dmjlgpWj97vL"
      }
    },
    {
      "cell_type": "markdown",
      "source": [
        "## Huggingface"
      ],
      "metadata": {
        "id": "yc-byDZV3waQ"
      }
    },
    {
      "cell_type": "code",
      "source": [],
      "metadata": {
        "id": "S0GEBK1qnECF"
      },
      "execution_count": null,
      "outputs": []
    },
    {
      "cell_type": "markdown",
      "source": [
        "- [huggingface Hub](https://huggingface.co/docs/datasets/index) - contains lots of open source models and dataset\n",
        "- huggingface [DataViewer WebApp](https://huggingface.co/datasets/viewer/) - to browse and explore dataset\n",
        "- huggingface [datasets v2](https://huggingface.co/docs/datasets/installation) - documentation\n",
        "- huggingface [datasets v1](https://huggingface.co/docs/datasets/v1.11.0/loading_datasets.html) - documentation"
      ],
      "metadata": {
        "id": "2IV7KE0KACde"
      }
    },
    {
      "cell_type": "code",
      "source": [
        "!pip install datasets"
      ],
      "metadata": {
        "colab": {
          "base_uri": "https://localhost:8080/"
        },
        "id": "GcOW6hRs99yj",
        "outputId": "64e698a5-6dac-4c71-c8b8-aee04aa973d6"
      },
      "execution_count": 304,
      "outputs": [
        {
          "output_type": "stream",
          "name": "stdout",
          "text": [
            "Looking in indexes: https://pypi.org/simple, https://us-python.pkg.dev/colab-wheels/public/simple/\n",
            "Requirement already satisfied: datasets in /usr/local/lib/python3.7/dist-packages (2.6.1)\n",
            "Requirement already satisfied: numpy>=1.17 in /usr/local/lib/python3.7/dist-packages (from datasets) (1.21.6)\n",
            "Requirement already satisfied: huggingface-hub<1.0.0,>=0.2.0 in /usr/local/lib/python3.7/dist-packages (from datasets) (0.10.1)\n",
            "Requirement already satisfied: pandas in /usr/local/lib/python3.7/dist-packages (from datasets) (1.3.5)\n",
            "Requirement already satisfied: tqdm>=4.62.1 in /usr/local/lib/python3.7/dist-packages (from datasets) (4.64.1)\n",
            "Requirement already satisfied: responses<0.19 in /usr/local/lib/python3.7/dist-packages (from datasets) (0.18.0)\n",
            "Requirement already satisfied: dill<0.3.6 in /usr/local/lib/python3.7/dist-packages (from datasets) (0.3.5.1)\n",
            "Requirement already satisfied: requests>=2.19.0 in /usr/local/lib/python3.7/dist-packages (from datasets) (2.23.0)\n",
            "Requirement already satisfied: pyarrow>=6.0.0 in /usr/local/lib/python3.7/dist-packages (from datasets) (6.0.1)\n",
            "Requirement already satisfied: fsspec[http]>=2021.11.1 in /usr/local/lib/python3.7/dist-packages (from datasets) (2022.10.0)\n",
            "Requirement already satisfied: aiohttp in /usr/local/lib/python3.7/dist-packages (from datasets) (3.8.3)\n",
            "Requirement already satisfied: packaging in /usr/local/lib/python3.7/dist-packages (from datasets) (21.3)\n",
            "Requirement already satisfied: pyyaml>=5.1 in /usr/local/lib/python3.7/dist-packages (from datasets) (6.0)\n",
            "Requirement already satisfied: multiprocess in /usr/local/lib/python3.7/dist-packages (from datasets) (0.70.13)\n",
            "Requirement already satisfied: importlib-metadata in /usr/local/lib/python3.7/dist-packages (from datasets) (4.13.0)\n",
            "Requirement already satisfied: xxhash in /usr/local/lib/python3.7/dist-packages (from datasets) (3.1.0)\n",
            "Requirement already satisfied: asynctest==0.13.0 in /usr/local/lib/python3.7/dist-packages (from aiohttp->datasets) (0.13.0)\n",
            "Requirement already satisfied: async-timeout<5.0,>=4.0.0a3 in /usr/local/lib/python3.7/dist-packages (from aiohttp->datasets) (4.0.2)\n",
            "Requirement already satisfied: multidict<7.0,>=4.5 in /usr/local/lib/python3.7/dist-packages (from aiohttp->datasets) (6.0.2)\n",
            "Requirement already satisfied: yarl<2.0,>=1.0 in /usr/local/lib/python3.7/dist-packages (from aiohttp->datasets) (1.8.1)\n",
            "Requirement already satisfied: attrs>=17.3.0 in /usr/local/lib/python3.7/dist-packages (from aiohttp->datasets) (22.1.0)\n",
            "Requirement already satisfied: typing-extensions>=3.7.4 in /usr/local/lib/python3.7/dist-packages (from aiohttp->datasets) (4.1.1)\n",
            "Requirement already satisfied: frozenlist>=1.1.1 in /usr/local/lib/python3.7/dist-packages (from aiohttp->datasets) (1.3.1)\n",
            "Requirement already satisfied: charset-normalizer<3.0,>=2.0 in /usr/local/lib/python3.7/dist-packages (from aiohttp->datasets) (2.1.1)\n",
            "Requirement already satisfied: aiosignal>=1.1.2 in /usr/local/lib/python3.7/dist-packages (from aiohttp->datasets) (1.2.0)\n",
            "Requirement already satisfied: filelock in /usr/local/lib/python3.7/dist-packages (from huggingface-hub<1.0.0,>=0.2.0->datasets) (3.8.0)\n",
            "Requirement already satisfied: pyparsing!=3.0.5,>=2.0.2 in /usr/local/lib/python3.7/dist-packages (from packaging->datasets) (3.0.9)\n",
            "Requirement already satisfied: chardet<4,>=3.0.2 in /usr/local/lib/python3.7/dist-packages (from requests>=2.19.0->datasets) (3.0.4)\n",
            "Requirement already satisfied: idna<3,>=2.5 in /usr/local/lib/python3.7/dist-packages (from requests>=2.19.0->datasets) (2.10)\n",
            "Requirement already satisfied: urllib3!=1.25.0,!=1.25.1,<1.26,>=1.21.1 in /usr/local/lib/python3.7/dist-packages (from requests>=2.19.0->datasets) (1.25.11)\n",
            "Requirement already satisfied: certifi>=2017.4.17 in /usr/local/lib/python3.7/dist-packages (from requests>=2.19.0->datasets) (2022.9.24)\n",
            "Requirement already satisfied: zipp>=0.5 in /usr/local/lib/python3.7/dist-packages (from importlib-metadata->datasets) (3.10.0)\n",
            "Requirement already satisfied: python-dateutil>=2.7.3 in /usr/local/lib/python3.7/dist-packages (from pandas->datasets) (2.8.2)\n",
            "Requirement already satisfied: pytz>=2017.3 in /usr/local/lib/python3.7/dist-packages (from pandas->datasets) (2022.5)\n",
            "Requirement already satisfied: six>=1.5 in /usr/local/lib/python3.7/dist-packages (from python-dateutil>=2.7.3->pandas->datasets) (1.15.0)\n"
          ]
        }
      ]
    },
    {
      "cell_type": "code",
      "source": [
        "import datasets\n",
        "datasets.__version__"
      ],
      "metadata": {
        "colab": {
          "base_uri": "https://localhost:8080/",
          "height": 36
        },
        "id": "8dDw90vi5CA7",
        "outputId": "908698ee-ffc3-4c33-824b-8e356a544f8d"
      },
      "execution_count": 305,
      "outputs": [
        {
          "output_type": "execute_result",
          "data": {
            "text/plain": [
              "'2.6.1'"
            ],
            "application/vnd.google.colaboratory.intrinsic+json": {
              "type": "string"
            }
          },
          "metadata": {},
          "execution_count": 305
        }
      ]
    },
    {
      "cell_type": "code",
      "source": [
        "from datasets import load_dataset\n",
        "imdb_dataset = load_dataset(\"imdb\")"
      ],
      "metadata": {
        "colab": {
          "base_uri": "https://localhost:8080/",
          "height": 67,
          "referenced_widgets": [
            "f1d9661306864258ab88dd2756acc3c2",
            "07155f9122794d4b9ad525163b20c358",
            "246a35d2ef614175ba9cba54b458a387",
            "4a4c90b8a3df452ab715748295c46d01",
            "c8d25f13fcd746a3a8eb14c3242fafe3",
            "708577cc28aa4438a278adeff642adb5",
            "53b34c260f754be0bd79e198d9fedda0",
            "c03316bdfca64388ae8866ff191f47c6",
            "a4c9fd24693d42a585a2d04338f2bfa3",
            "dfb67445cc6641f99045a5d40420c3de",
            "cb9fe26bb54e4d6eb3744625803e5baa"
          ]
        },
        "id": "YFbpFZNVBTXM",
        "outputId": "cac6b43f-3cf3-4d22-dfa9-1f58bacbc270"
      },
      "execution_count": 306,
      "outputs": [
        {
          "output_type": "stream",
          "name": "stderr",
          "text": [
            "WARNING:datasets.builder:Found cached dataset imdb (/root/.cache/huggingface/datasets/imdb/plain_text/1.0.0/2fdd8b9bcadd6e7055e742a706876ba43f19faee861df134affd7a3f60fc38a1)\n"
          ]
        },
        {
          "output_type": "display_data",
          "data": {
            "text/plain": [
              "  0%|          | 0/3 [00:00<?, ?it/s]"
            ],
            "application/vnd.jupyter.widget-view+json": {
              "version_major": 2,
              "version_minor": 0,
              "model_id": "f1d9661306864258ab88dd2756acc3c2"
            }
          },
          "metadata": {}
        }
      ]
    },
    {
      "cell_type": "code",
      "source": [
        "imdb_dataset"
      ],
      "metadata": {
        "colab": {
          "base_uri": "https://localhost:8080/"
        },
        "id": "70hMI5IUBtw7",
        "outputId": "30024928-f216-474d-b8b7-e20b1a2fc313"
      },
      "execution_count": 307,
      "outputs": [
        {
          "output_type": "execute_result",
          "data": {
            "text/plain": [
              "DatasetDict({\n",
              "    train: Dataset({\n",
              "        features: ['text', 'label'],\n",
              "        num_rows: 25000\n",
              "    })\n",
              "    test: Dataset({\n",
              "        features: ['text', 'label'],\n",
              "        num_rows: 25000\n",
              "    })\n",
              "    unsupervised: Dataset({\n",
              "        features: ['text', 'label'],\n",
              "        num_rows: 50000\n",
              "    })\n",
              "})"
            ]
          },
          "metadata": {},
          "execution_count": 307
        }
      ]
    },
    {
      "cell_type": "markdown",
      "source": [
        "The large movie review dataset contains a collection of 50,000 reviews from IMDB.\n",
        "\n",
        "- The dataset contains an even number of positive and negative reviews **<- let's verify this!!**\n",
        "- The authors considered only highly polarized reviews. \n",
        "  - a negative review has a score ≤ 4 out of 10\n",
        "  - a positive review has a score ≥ 7 out of 10\n",
        "  - neutral reviews are not included in the dataset\n",
        "- The dataset is divided into training and test sets. The training set is the same 25,000 labeled reviews\n",
        "- There is additional 50,000 unlabeled data for use as well\n",
        "\n",
        "**What is the difference between training / validation / test set?** \n",
        "\n",
        "**Why do we need all three?**"
      ],
      "metadata": {
        "id": "qZeLyID6GKDX"
      }
    },
    {
      "cell_type": "code",
      "source": [
        "print(imdb_dataset.shape)\n",
        "print(imdb_dataset.num_columns)\n",
        "print(imdb_dataset.column_names)"
      ],
      "metadata": {
        "colab": {
          "base_uri": "https://localhost:8080/"
        },
        "id": "_R6Fx1frGBEn",
        "outputId": "14a70666-be7a-4de5-f7a5-bc9ccafeb25a"
      },
      "execution_count": 308,
      "outputs": [
        {
          "output_type": "stream",
          "name": "stdout",
          "text": [
            "{'train': (25000, 2), 'test': (25000, 2), 'unsupervised': (50000, 2)}\n",
            "{'train': 2, 'test': 2, 'unsupervised': 2}\n",
            "{'train': ['text', 'label'], 'test': ['text', 'label'], 'unsupervised': ['text', 'label']}\n"
          ]
        }
      ]
    },
    {
      "cell_type": "code",
      "source": [
        "imdb_dataset['train'][20000]['label']"
      ],
      "metadata": {
        "colab": {
          "base_uri": "https://localhost:8080/"
        },
        "id": "evEttqT-0yqp",
        "outputId": "9775bfed-ad88-4b3b-8d99-ba4cd9a3a601"
      },
      "execution_count": 312,
      "outputs": [
        {
          "output_type": "execute_result",
          "data": {
            "text/plain": [
              "1"
            ]
          },
          "metadata": {},
          "execution_count": 312
        }
      ]
    },
    {
      "cell_type": "code",
      "source": [
        "a = [1,2,3,4,5,6,7,8,9,10]\n",
        "a"
      ],
      "metadata": {
        "colab": {
          "base_uri": "https://localhost:8080/"
        },
        "id": "FBVTSwXgxpVV",
        "outputId": "2b051407-516f-4356-a67b-5262d4008567"
      },
      "execution_count": 322,
      "outputs": [
        {
          "output_type": "execute_result",
          "data": {
            "text/plain": [
              "[1, 2, 3, 4, 5, 6, 7, 8, 9, 10]"
            ]
          },
          "metadata": {},
          "execution_count": 322
        }
      ]
    },
    {
      "cell_type": "code",
      "source": [
        "len(a)"
      ],
      "metadata": {
        "colab": {
          "base_uri": "https://localhost:8080/"
        },
        "id": "ICFKKTvIyJVT",
        "outputId": "876e4ca9-2bac-4c61-eeb5-bf047eec6f40"
      },
      "execution_count": 326,
      "outputs": [
        {
          "output_type": "execute_result",
          "data": {
            "text/plain": [
              "10"
            ]
          },
          "metadata": {},
          "execution_count": 326
        }
      ]
    },
    {
      "cell_type": "code",
      "source": [
        "a[-3:len(a)]"
      ],
      "metadata": {
        "colab": {
          "base_uri": "https://localhost:8080/"
        },
        "id": "ts-TG8QsxvSC",
        "outputId": "8421a041-a7a1-489f-92a4-2ceb64d000f2"
      },
      "execution_count": 325,
      "outputs": [
        {
          "output_type": "execute_result",
          "data": {
            "text/plain": [
              "[8, 9, 10]"
            ]
          },
          "metadata": {},
          "execution_count": 325
        }
      ]
    },
    {
      "cell_type": "code",
      "source": [
        "train_x_1 = [data for data in imdb_dataset['train'][:500]['text']]\n",
        "train_y_1 = [data for data in imdb_dataset['train'][:500]['label']]\n",
        "train_x_2 = [data for data in imdb_dataset['train'][20000:20500]['text']]\n",
        "train_y_2 = [data for data in imdb_dataset['train'][20000:20500]['label']]\n",
        "\n",
        "train_x = train_x_1 + train_x_2\n",
        "train_y = train_y_1 + train_y_2\n",
        "\n",
        "test_x_1 = [data for data in imdb_dataset['test'][:500]['text']]\n",
        "test_y_1 = [data for data in imdb_dataset['test'][:500]['label']]\n",
        "test_x_2 = [data for data in imdb_dataset['test'][20000:20500]['text']]\n",
        "test_y_2 = [data for data in imdb_dataset['test'][20000:20500]['label']]\n",
        "\n",
        "test_x = test_x_1 + test_x_2\n",
        "test_y = test_y_1 + test_y_2\n"
      ],
      "metadata": {
        "id": "qkkGNJcpnG_a"
      },
      "execution_count": 502,
      "outputs": []
    },
    {
      "cell_type": "code",
      "source": [
        "print(len(train_x),len(train_y))\n",
        "a = [1,2,3]\n",
        "b = [4,5,6]\n",
        "a + b"
      ],
      "metadata": {
        "colab": {
          "base_uri": "https://localhost:8080/"
        },
        "id": "cRf949W3zCsv",
        "outputId": "6832ff8d-27d2-4dee-d515-22ebf58bc968"
      },
      "execution_count": 503,
      "outputs": [
        {
          "output_type": "stream",
          "name": "stdout",
          "text": [
            "4000 4000\n"
          ]
        },
        {
          "output_type": "execute_result",
          "data": {
            "text/plain": [
              "[1, 2, 3, 4, 5, 6]"
            ]
          },
          "metadata": {},
          "execution_count": 503
        }
      ]
    },
    {
      "cell_type": "code",
      "source": [
        "from collections import Counter\n",
        "Counter(train_y)"
      ],
      "metadata": {
        "colab": {
          "base_uri": "https://localhost:8080/"
        },
        "id": "C-DVWSsuydRo",
        "outputId": "bc7b4c26-de0c-46fc-b680-9d6f194b9a8e"
      },
      "execution_count": 497,
      "outputs": [
        {
          "output_type": "execute_result",
          "data": {
            "text/plain": [
              "Counter({0: 1000, 1: 1000})"
            ]
          },
          "metadata": {},
          "execution_count": 497
        }
      ]
    },
    {
      "cell_type": "code",
      "source": [
        "a = [1,2,3]\n",
        "b = [1,2,4]\n",
        "c = []\n",
        "c.extend(a)\n",
        "c.extend(b)\n",
        "c"
      ],
      "metadata": {
        "colab": {
          "base_uri": "https://localhost:8080/"
        },
        "id": "p8AHC_M-s32V",
        "outputId": "befc0c94-787f-4a4e-cf3a-fb453542ddc2"
      },
      "execution_count": 299,
      "outputs": [
        {
          "output_type": "execute_result",
          "data": {
            "text/plain": [
              "[1, 2, 3, 1, 2, 4]"
            ]
          },
          "metadata": {},
          "execution_count": 299
        }
      ]
    },
    {
      "cell_type": "code",
      "source": [
        "len(train_x)"
      ],
      "metadata": {
        "colab": {
          "base_uri": "https://localhost:8080/"
        },
        "id": "tVQ0S85TnwgQ",
        "outputId": "aa914016-f43f-49a4-d6cb-7a007fbec996"
      },
      "execution_count": 266,
      "outputs": [
        {
          "output_type": "execute_result",
          "data": {
            "text/plain": [
              "1000"
            ]
          },
          "metadata": {},
          "execution_count": 266
        }
      ]
    },
    {
      "cell_type": "code",
      "source": [
        "train_y[2]"
      ],
      "metadata": {
        "colab": {
          "base_uri": "https://localhost:8080/"
        },
        "id": "hsKO7Bv1oDD1",
        "outputId": "79b7915e-5f23-47df-b9f7-320930c6408f"
      },
      "execution_count": 271,
      "outputs": [
        {
          "output_type": "execute_result",
          "data": {
            "text/plain": [
              "0"
            ]
          },
          "metadata": {},
          "execution_count": 271
        }
      ]
    },
    {
      "cell_type": "markdown",
      "source": [
        "## Fast.ai\n",
        "\n",
        "- [fastai v2 - documentation](https://docs.fast.ai/)\n",
        "- [fastai v1 - documentaiton](https://fastai1.fast.ai/text.data.html#The-TextList-input-classes) - should not be used!"
      ],
      "metadata": {
        "id": "jQ3H9HhNzwTv"
      }
    },
    {
      "cell_type": "code",
      "source": [
        "!pip install fastai\n",
        "# not needed"
      ],
      "metadata": {
        "id": "er2IwBFaRMDA"
      },
      "execution_count": null,
      "outputs": []
    },
    {
      "cell_type": "code",
      "source": [
        "import fastai\n",
        "fastai.__version__"
      ],
      "metadata": {
        "colab": {
          "base_uri": "https://localhost:8080/",
          "height": 36
        },
        "id": "-AiUsX772NMk",
        "outputId": "bd46873a-8d70-4b78-9703-65aff505da2d"
      },
      "execution_count": 16,
      "outputs": [
        {
          "output_type": "execute_result",
          "data": {
            "text/plain": [
              "'2.7.9'"
            ],
            "application/vnd.google.colaboratory.intrinsic+json": {
              "type": "string"
            }
          },
          "metadata": {},
          "execution_count": 16
        }
      ]
    },
    {
      "cell_type": "markdown",
      "source": [
        "- fastai [external datasets documentation](https://docs.fast.ai/data.external.html)"
      ],
      "metadata": {
        "id": "wpDEgHQp6W_x"
      }
    },
    {
      "cell_type": "code",
      "source": [
        "from fastai.text.all import *\n",
        "imdb_path = untar_data(URLs.IMDB_SAMPLE)"
      ],
      "metadata": {
        "id": "xzjDgm4_I8-C"
      },
      "execution_count": 335,
      "outputs": []
    },
    {
      "cell_type": "code",
      "source": [
        "imdb_path"
      ],
      "metadata": {
        "colab": {
          "base_uri": "https://localhost:8080/"
        },
        "id": "E4ESMjApRKC5",
        "outputId": "58de24f6-3e5c-4715-ae38-e86a1540707d"
      },
      "execution_count": 336,
      "outputs": [
        {
          "output_type": "execute_result",
          "data": {
            "text/plain": [
              "Path('/root/.fastai/data/imdb_sample')"
            ]
          },
          "metadata": {},
          "execution_count": 336
        }
      ]
    },
    {
      "cell_type": "code",
      "source": [
        "!ls '/root/.fastai/data/imdb_sample'"
      ],
      "metadata": {
        "colab": {
          "base_uri": "https://localhost:8080/"
        },
        "id": "vh41ZFR0zm25",
        "outputId": "3e9a1eb2-261a-41e0-f1df-07b5013b8772"
      },
      "execution_count": 337,
      "outputs": [
        {
          "output_type": "stream",
          "name": "stdout",
          "text": [
            "texts.csv\n"
          ]
        }
      ]
    },
    {
      "cell_type": "code",
      "source": [
        "import pandas as pd"
      ],
      "metadata": {
        "id": "cI13oK5E0OnI"
      },
      "execution_count": 338,
      "outputs": []
    },
    {
      "cell_type": "code",
      "source": [
        "df = pd.read_csv(imdb_path/'texts.csv')\n",
        "df.head()"
      ],
      "metadata": {
        "colab": {
          "base_uri": "https://localhost:8080/",
          "height": 407
        },
        "id": "KGfJWWKz0UEb",
        "outputId": "20b03d0c-7d50-438c-d818-7c78a6fea33a"
      },
      "execution_count": 339,
      "outputs": [
        {
          "output_type": "execute_result",
          "data": {
            "text/plain": [
              "      label  \\\n",
              "0  negative   \n",
              "1  positive   \n",
              "2  negative   \n",
              "3  positive   \n",
              "4  negative   \n",
              "\n",
              "                                                                                                                                                                                                                                                                                                                                                                                                                                                                                                                                                                                                                      text  \\\n",
              "0                                                                                                                                                                                                    Un-bleeping-believable! Meg Ryan doesn't even look her usual pert lovable self in this, which normally makes me forgive her shallow ticky acting schtick. Hard to believe she was the producer on this dog. Plus Kevin Kline: what kind of suicide trip has his career been on? Whoosh... Banzai!!! Finally this was directed by the guy who did Big Chill? Must be a replay of Jonestown - hollywood style. Wooofff!   \n",
              "1  This is a extremely well-made film. The acting, script and camera-work are all first-rate. The music is good, too, though it is mostly early in the film, when things are still relatively cheery. There are no really superstars in the cast, though several faces will be familiar. The entire cast does an excellent job with the script.<br /><br />But it is hard to watch, because there is no good end to a situation like the one presented. It is now fashionable to blame the British for setting Hindus and Muslims against each other, and then cruelly separating them into two countries. There is som...   \n",
              "2  Every once in a long while a movie will come along that will be so awful that I feel compelled to warn people. If I labor all my days and I can save but one soul from watching this movie, how great will be my joy.<br /><br />Where to begin my discussion of pain. For starters, there was a musical montage every five minutes. There was no character development. Every character was a stereotype. We had swearing guy, fat guy who eats donuts, goofy foreign guy, etc. The script felt as if it were being written as the movie was being shot. The production value was so incredibly low that it felt li...   \n",
              "3  Name just says it all. I watched this movie with my dad when it came out and having served in Korea he had great admiration for the man. The disappointing thing about this film is that it only concentrate on a short period of the man's life - interestingly enough the man's entire life would have made such an epic bio-pic that it is staggering to imagine the cost for production.<br /><br />Some posters elude to the flawed characteristics about the man, which are cheap shots. The theme of the movie \"Duty, Honor, Country\" are not just mere words blathered from the lips of a high-brassed offic...   \n",
              "4  This movie succeeds at being one of the most unique movies you've seen. However this comes from the fact that you can't make heads or tails of this mess. It almost seems as a series of challenges set up to determine whether or not you are willing to walk out of the movie and give up the money you just paid. If you don't want to feel slighted you'll sit through this horrible film and develop a real sense of pity for the actors involved, they've all seen better days, but then you realize they actually got paid quite a bit of money to do this and you'll lose pity for them just like you've alr...   \n",
              "\n",
              "   is_valid  \n",
              "0     False  \n",
              "1     False  \n",
              "2     False  \n",
              "3     False  \n",
              "4     False  "
            ],
            "text/html": [
              "\n",
              "  <div id=\"df-cdbe7d9d-c146-4da8-9c3a-91b4cda6d658\">\n",
              "    <div class=\"colab-df-container\">\n",
              "      <div>\n",
              "<style scoped>\n",
              "    .dataframe tbody tr th:only-of-type {\n",
              "        vertical-align: middle;\n",
              "    }\n",
              "\n",
              "    .dataframe tbody tr th {\n",
              "        vertical-align: top;\n",
              "    }\n",
              "\n",
              "    .dataframe thead th {\n",
              "        text-align: right;\n",
              "    }\n",
              "</style>\n",
              "<table border=\"1\" class=\"dataframe\">\n",
              "  <thead>\n",
              "    <tr style=\"text-align: right;\">\n",
              "      <th></th>\n",
              "      <th>label</th>\n",
              "      <th>text</th>\n",
              "      <th>is_valid</th>\n",
              "    </tr>\n",
              "  </thead>\n",
              "  <tbody>\n",
              "    <tr>\n",
              "      <th>0</th>\n",
              "      <td>negative</td>\n",
              "      <td>Un-bleeping-believable! Meg Ryan doesn't even look her usual pert lovable self in this, which normally makes me forgive her shallow ticky acting schtick. Hard to believe she was the producer on this dog. Plus Kevin Kline: what kind of suicide trip has his career been on? Whoosh... Banzai!!! Finally this was directed by the guy who did Big Chill? Must be a replay of Jonestown - hollywood style. Wooofff!</td>\n",
              "      <td>False</td>\n",
              "    </tr>\n",
              "    <tr>\n",
              "      <th>1</th>\n",
              "      <td>positive</td>\n",
              "      <td>This is a extremely well-made film. The acting, script and camera-work are all first-rate. The music is good, too, though it is mostly early in the film, when things are still relatively cheery. There are no really superstars in the cast, though several faces will be familiar. The entire cast does an excellent job with the script.&lt;br /&gt;&lt;br /&gt;But it is hard to watch, because there is no good end to a situation like the one presented. It is now fashionable to blame the British for setting Hindus and Muslims against each other, and then cruelly separating them into two countries. There is som...</td>\n",
              "      <td>False</td>\n",
              "    </tr>\n",
              "    <tr>\n",
              "      <th>2</th>\n",
              "      <td>negative</td>\n",
              "      <td>Every once in a long while a movie will come along that will be so awful that I feel compelled to warn people. If I labor all my days and I can save but one soul from watching this movie, how great will be my joy.&lt;br /&gt;&lt;br /&gt;Where to begin my discussion of pain. For starters, there was a musical montage every five minutes. There was no character development. Every character was a stereotype. We had swearing guy, fat guy who eats donuts, goofy foreign guy, etc. The script felt as if it were being written as the movie was being shot. The production value was so incredibly low that it felt li...</td>\n",
              "      <td>False</td>\n",
              "    </tr>\n",
              "    <tr>\n",
              "      <th>3</th>\n",
              "      <td>positive</td>\n",
              "      <td>Name just says it all. I watched this movie with my dad when it came out and having served in Korea he had great admiration for the man. The disappointing thing about this film is that it only concentrate on a short period of the man's life - interestingly enough the man's entire life would have made such an epic bio-pic that it is staggering to imagine the cost for production.&lt;br /&gt;&lt;br /&gt;Some posters elude to the flawed characteristics about the man, which are cheap shots. The theme of the movie \"Duty, Honor, Country\" are not just mere words blathered from the lips of a high-brassed offic...</td>\n",
              "      <td>False</td>\n",
              "    </tr>\n",
              "    <tr>\n",
              "      <th>4</th>\n",
              "      <td>negative</td>\n",
              "      <td>This movie succeeds at being one of the most unique movies you've seen. However this comes from the fact that you can't make heads or tails of this mess. It almost seems as a series of challenges set up to determine whether or not you are willing to walk out of the movie and give up the money you just paid. If you don't want to feel slighted you'll sit through this horrible film and develop a real sense of pity for the actors involved, they've all seen better days, but then you realize they actually got paid quite a bit of money to do this and you'll lose pity for them just like you've alr...</td>\n",
              "      <td>False</td>\n",
              "    </tr>\n",
              "  </tbody>\n",
              "</table>\n",
              "</div>\n",
              "      <button class=\"colab-df-convert\" onclick=\"convertToInteractive('df-cdbe7d9d-c146-4da8-9c3a-91b4cda6d658')\"\n",
              "              title=\"Convert this dataframe to an interactive table.\"\n",
              "              style=\"display:none;\">\n",
              "        \n",
              "  <svg xmlns=\"http://www.w3.org/2000/svg\" height=\"24px\"viewBox=\"0 0 24 24\"\n",
              "       width=\"24px\">\n",
              "    <path d=\"M0 0h24v24H0V0z\" fill=\"none\"/>\n",
              "    <path d=\"M18.56 5.44l.94 2.06.94-2.06 2.06-.94-2.06-.94-.94-2.06-.94 2.06-2.06.94zm-11 1L8.5 8.5l.94-2.06 2.06-.94-2.06-.94L8.5 2.5l-.94 2.06-2.06.94zm10 10l.94 2.06.94-2.06 2.06-.94-2.06-.94-.94-2.06-.94 2.06-2.06.94z\"/><path d=\"M17.41 7.96l-1.37-1.37c-.4-.4-.92-.59-1.43-.59-.52 0-1.04.2-1.43.59L10.3 9.45l-7.72 7.72c-.78.78-.78 2.05 0 2.83L4 21.41c.39.39.9.59 1.41.59.51 0 1.02-.2 1.41-.59l7.78-7.78 2.81-2.81c.8-.78.8-2.07 0-2.86zM5.41 20L4 18.59l7.72-7.72 1.47 1.35L5.41 20z\"/>\n",
              "  </svg>\n",
              "      </button>\n",
              "      \n",
              "  <style>\n",
              "    .colab-df-container {\n",
              "      display:flex;\n",
              "      flex-wrap:wrap;\n",
              "      gap: 12px;\n",
              "    }\n",
              "\n",
              "    .colab-df-convert {\n",
              "      background-color: #E8F0FE;\n",
              "      border: none;\n",
              "      border-radius: 50%;\n",
              "      cursor: pointer;\n",
              "      display: none;\n",
              "      fill: #1967D2;\n",
              "      height: 32px;\n",
              "      padding: 0 0 0 0;\n",
              "      width: 32px;\n",
              "    }\n",
              "\n",
              "    .colab-df-convert:hover {\n",
              "      background-color: #E2EBFA;\n",
              "      box-shadow: 0px 1px 2px rgba(60, 64, 67, 0.3), 0px 1px 3px 1px rgba(60, 64, 67, 0.15);\n",
              "      fill: #174EA6;\n",
              "    }\n",
              "\n",
              "    [theme=dark] .colab-df-convert {\n",
              "      background-color: #3B4455;\n",
              "      fill: #D2E3FC;\n",
              "    }\n",
              "\n",
              "    [theme=dark] .colab-df-convert:hover {\n",
              "      background-color: #434B5C;\n",
              "      box-shadow: 0px 1px 3px 1px rgba(0, 0, 0, 0.15);\n",
              "      filter: drop-shadow(0px 1px 2px rgba(0, 0, 0, 0.3));\n",
              "      fill: #FFFFFF;\n",
              "    }\n",
              "  </style>\n",
              "\n",
              "      <script>\n",
              "        const buttonEl =\n",
              "          document.querySelector('#df-cdbe7d9d-c146-4da8-9c3a-91b4cda6d658 button.colab-df-convert');\n",
              "        buttonEl.style.display =\n",
              "          google.colab.kernel.accessAllowed ? 'block' : 'none';\n",
              "\n",
              "        async function convertToInteractive(key) {\n",
              "          const element = document.querySelector('#df-cdbe7d9d-c146-4da8-9c3a-91b4cda6d658');\n",
              "          const dataTable =\n",
              "            await google.colab.kernel.invokeFunction('convertToInteractive',\n",
              "                                                     [key], {});\n",
              "          if (!dataTable) return;\n",
              "\n",
              "          const docLinkHtml = 'Like what you see? Visit the ' +\n",
              "            '<a target=\"_blank\" href=https://colab.research.google.com/notebooks/data_table.ipynb>data table notebook</a>'\n",
              "            + ' to learn more about interactive tables.';\n",
              "          element.innerHTML = '';\n",
              "          dataTable['output_type'] = 'display_data';\n",
              "          await google.colab.output.renderOutput(dataTable, element);\n",
              "          const docLink = document.createElement('div');\n",
              "          docLink.innerHTML = docLinkHtml;\n",
              "          element.appendChild(docLink);\n",
              "        }\n",
              "      </script>\n",
              "    </div>\n",
              "  </div>\n",
              "  "
            ]
          },
          "metadata": {},
          "execution_count": 339
        }
      ]
    },
    {
      "cell_type": "code",
      "source": [
        "print(df.shape)"
      ],
      "metadata": {
        "colab": {
          "base_uri": "https://localhost:8080/"
        },
        "id": "Qa31C8761i7g",
        "outputId": "e5b01bed-85ac-49bd-f0eb-873d6b8bbf2a"
      },
      "execution_count": 340,
      "outputs": [
        {
          "output_type": "stream",
          "name": "stdout",
          "text": [
            "(1000, 3)\n"
          ]
        }
      ]
    },
    {
      "cell_type": "code",
      "source": [
        "print(type(df['text']))\n",
        "print(df['text'][20])\n",
        "print(df['text'].iloc[-1])"
      ],
      "metadata": {
        "colab": {
          "base_uri": "https://localhost:8080/"
        },
        "id": "9yd1MHYB7F_w",
        "outputId": "79a8e44c-63ed-46c8-9cd1-b8c16a4bc9ca"
      },
      "execution_count": 341,
      "outputs": [
        {
          "output_type": "stream",
          "name": "stdout",
          "text": [
            "<class 'pandas.core.series.Series'>\n",
            "I first encountered this show when I was staying in Japan for six months last year. I found it in the internet when I was looking for sub-titled dramas to help me with my Japanese. My host mother warned me to stay away from it because she thought it was weird, but I found it delightful! Koyuki showed such conflicting character traits and Matsujun's spirit made my day every time I tuned in! I first saw him on \"Hana Yori Dango\", but I liked him much better in this!<br /><br />Although the characters are interesting and well-developed, I was disappointed to find that they didn't change very much throughout the show. Their relationship grew, but they didn't really. Still, a fun time had by all (Even for Fukushima!).\n",
            "A compelling, honest, daring, and unforgettable psychological horror film that touches on the painful experiences of pain caused by rape - \"Descent\" is a film that went under-the-radar due to its lack of distribution because, frankly, the film is so brutal in its depictions, that if it had been released theatrically, it may have met itself to some strong biased hate.<br /><br />The film deserves to be discovered for, not only its dark themes, and not only for its amazing direction and authentic style - but most of all for its performances. Chad Faust is absolutely stunning, bringing enough sickness and enough vulnerability to make one, not relate to, but understand this fractured man with a twisted perspective on his sexuality with not only the women he rapes, but also the fragile insecurities deep within his own self. It's a supporting performance that is so complex, brave, and emotional on Faust's part. And hard to forget.<br /><br />However, the standout is Rosario Dawson, whose performance here is an absolute revelation. A tour-de-force of realistic dramatic tics, and one of the most subtle, yet loud-as-can-be performances in quite some time. While Dawson is seen in some good supporting performances in some great-to-bad films, she proves here she has what it takes to deliver some emotionally sweeping and moving performances, believably and thematically.<br /><br />One of the best films of its year (and 2007 was a strong one) - had this underrated and intelligent film hit theatrical release, I would be screaming praises for it, as well as Dawson and Faust. Too bad it was way too blunt for a widespread appeal. Films like this deserve better!\n"
          ]
        }
      ]
    },
    {
      "cell_type": "code",
      "source": [
        "df['text'].tolist()[-3:]"
      ],
      "metadata": {
        "colab": {
          "base_uri": "https://localhost:8080/"
        },
        "id": "lQOOOoSm_2Ut",
        "outputId": "173f29a8-ec58-4fed-f16b-2b14404078eb"
      },
      "execution_count": 342,
      "outputs": [
        {
          "output_type": "execute_result",
          "data": {
            "text/plain": [
              "['Wenders was great with Million $ Hotel.I don\\'t know how he came up with this film! The idea of giving the situation after spt11 and the view of American Society is hopeful,that makes it 2 out of ten.But this is not a movie.Is that the best someone can do with a great idea(the west-east clash).There are important things going on in middle east and it is just issued on the screen of a MAC* with the fingers of an Amerian girl who is actually at the level of stupidity(because she is just ignorant about the facts).The characters are not well shaped.And the most important thing is the idea that is given with religion is somehow funny to me.At the ending scene Lana says lets just be quiet and try to listen.And the background music says \"...I will pray\".The thing is not about religion actually.But it ends up with this.How you are gonna see the truth if you just close your eyes and pray.The lights are already shining on the truth.Its just that nobody wants to see it. ps: \"My home is not a place.It is people\"The only thing that gets 10 out of 10 is that sentence.But it is wasted behind this film making. (by the way; as \"someone\" mentioned below ,Americas finest young man are not finest,they are just the \"poor\" and the \"hopeless\" ones who sign up for the army in need of good paychecks which is not provided by the government ! )',\n",
              " \"Although a film with Bruce Willis is always worth watching, you better skip this one. I watched this one on television, so I didn't have to plunk down cash for it. Lucky me.<br /><br />The plot develops slowly, very slowly. Although the first 30 minutes or so are quite believable, it gets more and more unbelievable towards the end. It is highly questionable, if a seasoned soldier like Lt. Waters would disobey direct orders. And even if he would, if the rest of his platoon would. They know he puts them in direct danger, and they know they will certainly die if they follow him, but what the heck, he is our Lt. so let's do what he says (despite the direct orders, remember).<br /><br />Still, there are some nice scenes in this movie. They somewhat save a village, where the total population is being massacred by the rebels. Well, they save a dozen villagers or so, the rest was already killed. The strange part of it, that they did take the trucks which the rebels left behind. They rather go on foot. Maybe because the roads are unsafe, but there was no explanation for it. Anyway. I think this was what earned the movie the one point I gave it.<br /><br />What made this movie an insult to the brain and hence completely unbelievable is that a group of 7 soldiers can kill of so many rebels without being hurt or killed themselves. Only near the end they loose a few comrades. And that is only because they have to fight of an army of nearly 500 or more. Can you believe that?<br /><br />They fight of an army of so many, kill hundreds of them, and only loose a few of themselves. And they have rounds and round of ammo. Never run out of it. Grenades and claymore mines, an M60 machine gun and even an RPG. Where do they get this stuff. Carrying it around or what? They even got a laptop which shows them the activity of enemy rebels. And this laptop has a battery which goes on for days. Really? Who think up this crap.<br /><br />I guess if you turn off your brain completely and accept that the rebels are a bunch of idiots, you give this movie a high rating. If not, skip this one. It saves you time.\",\n",
              " 'A compelling, honest, daring, and unforgettable psychological horror film that touches on the painful experiences of pain caused by rape - \"Descent\" is a film that went under-the-radar due to its lack of distribution because, frankly, the film is so brutal in its depictions, that if it had been released theatrically, it may have met itself to some strong biased hate.<br /><br />The film deserves to be discovered for, not only its dark themes, and not only for its amazing direction and authentic style - but most of all for its performances. Chad Faust is absolutely stunning, bringing enough sickness and enough vulnerability to make one, not relate to, but understand this fractured man with a twisted perspective on his sexuality with not only the women he rapes, but also the fragile insecurities deep within his own self. It\\'s a supporting performance that is so complex, brave, and emotional on Faust\\'s part. And hard to forget.<br /><br />However, the standout is Rosario Dawson, whose performance here is an absolute revelation. A tour-de-force of realistic dramatic tics, and one of the most subtle, yet loud-as-can-be performances in quite some time. While Dawson is seen in some good supporting performances in some great-to-bad films, she proves here she has what it takes to deliver some emotionally sweeping and moving performances, believably and thematically.<br /><br />One of the best films of its year (and 2007 was a strong one) - had this underrated and intelligent film hit theatrical release, I would be screaming praises for it, as well as Dawson and Faust. Too bad it was way too blunt for a widespread appeal. Films like this deserve better!']"
            ]
          },
          "metadata": {},
          "execution_count": 342
        }
      ]
    },
    {
      "cell_type": "markdown",
      "source": [
        "# Text to Numbers"
      ],
      "metadata": {
        "id": "3H7BEjmRKOHk"
      }
    },
    {
      "cell_type": "markdown",
      "source": [
        "Cleaning:\n",
        "  - remove white space\n",
        "  - remove accents\n",
        "  - remove stop words\n",
        "  - remove punctuations\n",
        "  - remove URLs/handles\n",
        "  - spell correction\n",
        "  - stemming/lemmatization\n",
        "  - lowercasing\n",
        "\n",
        "Tokenization:\n",
        "  - word-based\n",
        "  - character-based\n",
        "  - subword-based\n",
        "\n",
        "Encoding:\n",
        "  - frequency counts (for each category)\n",
        "  - 1-hot encoding of the whole vocabulary (sparce matrix)\n",
        "  - n-grams\n",
        "  - word embedding (word vectors)"
      ],
      "metadata": {
        "id": "1t7nuHhd8nff"
      }
    },
    {
      "cell_type": "code",
      "source": [
        "\"ALMA\".lower()\n",
        "string.punctuation"
      ],
      "metadata": {
        "colab": {
          "base_uri": "https://localhost:8080/",
          "height": 36
        },
        "id": "K6Isb2sPARQb",
        "outputId": "278eeff5-b4ba-4440-d668-889bb34f6eac"
      },
      "execution_count": 53,
      "outputs": [
        {
          "output_type": "execute_result",
          "data": {
            "text/plain": [
              "'!\"#$%&\\'()*+,-./:;<=>?@[\\\\]^_`{|}~'"
            ],
            "application/vnd.google.colaboratory.intrinsic+json": {
              "type": "string"
            }
          },
          "metadata": {},
          "execution_count": 53
        }
      ]
    },
    {
      "cell_type": "markdown",
      "source": [
        "- [NLTK documentation](https://www.nltk.org/api/nltk.tokenize.html#module-nltk.tokenize)"
      ],
      "metadata": {
        "id": "O31pCBs7BYut"
      }
    },
    {
      "cell_type": "code",
      "source": [
        "import re\n",
        "import nltk\n",
        "from nltk.tokenize import word_tokenize\n",
        "from nltk.corpus import stopwords\n",
        "from nltk.stem import PorterStemmer\n",
        "nltk.download('stopwords')\n",
        "nltk.download('punkt')"
      ],
      "metadata": {
        "colab": {
          "base_uri": "https://localhost:8080/"
        },
        "id": "J4Y0ozAfF5ee",
        "outputId": "83bcabc3-e203-4b02-ac77-5243308e660d"
      },
      "execution_count": 363,
      "outputs": [
        {
          "output_type": "stream",
          "name": "stderr",
          "text": [
            "[nltk_data] Downloading package stopwords to /root/nltk_data...\n",
            "[nltk_data]   Package stopwords is already up-to-date!\n",
            "[nltk_data] Downloading package punkt to /root/nltk_data...\n",
            "[nltk_data]   Package punkt is already up-to-date!\n"
          ]
        },
        {
          "output_type": "execute_result",
          "data": {
            "text/plain": [
              "True"
            ]
          },
          "metadata": {},
          "execution_count": 363
        }
      ]
    },
    {
      "cell_type": "code",
      "source": [
        "r = \"Hello, br br movie was great ..... but I did not like the #drama\""
      ],
      "metadata": {
        "id": "VNJqZryN2Wy8"
      },
      "execution_count": 398,
      "outputs": []
    },
    {
      "cell_type": "code",
      "source": [
        "print(clean_review(r))"
      ],
      "metadata": {
        "colab": {
          "base_uri": "https://localhost:8080/"
        },
        "id": "H9rX8GBQ4yIF",
        "outputId": "1dbf03d4-325c-4a9a-fd30-6a3fa46ede9a"
      },
      "execution_count": 399,
      "outputs": [
        {
          "output_type": "stream",
          "name": "stdout",
          "text": [
            "['hello', 'movi', 'great', 'not', 'like', 'drama']\n"
          ]
        }
      ]
    },
    {
      "cell_type": "code",
      "source": [
        "r = re.sub(r'<\\w*/?>', '', r)\n",
        "r"
      ],
      "metadata": {
        "colab": {
          "base_uri": "https://localhost:8080/",
          "height": 36
        },
        "id": "m9P1UQ6y2diw",
        "outputId": "9352e870-d5e7-4ee5-b6f4-eb04578fb777"
      },
      "execution_count": 359,
      "outputs": [
        {
          "output_type": "execute_result",
          "data": {
            "text/plain": [
              "'Hello, this movie was great ..... but I did not like the #drama'"
            ],
            "application/vnd.google.colaboratory.intrinsic+json": {
              "type": "string"
            }
          },
          "metadata": {},
          "execution_count": 359
        }
      ]
    },
    {
      "cell_type": "code",
      "source": [
        "r = re.sub(r'[.,]+', '.', r)\n",
        "r"
      ],
      "metadata": {
        "colab": {
          "base_uri": "https://localhost:8080/",
          "height": 36
        },
        "id": "NZe6LCVj3Yxf",
        "outputId": "b37b5977-2069-48e8-c93d-6ea2e37ae27b"
      },
      "execution_count": 361,
      "outputs": [
        {
          "output_type": "execute_result",
          "data": {
            "text/plain": [
              "'Hello. this movie was great . but I did not like the #drama'"
            ],
            "application/vnd.google.colaboratory.intrinsic+json": {
              "type": "string"
            }
          },
          "metadata": {},
          "execution_count": 361
        }
      ]
    },
    {
      "cell_type": "code",
      "source": [
        "r = re.sub(r'#', '', r)\n",
        "r"
      ],
      "metadata": {
        "colab": {
          "base_uri": "https://localhost:8080/",
          "height": 36
        },
        "id": "cEv0IWa13eiw",
        "outputId": "a40e57ad-afc6-4cd3-fa75-2cfaaadab31f"
      },
      "execution_count": 362,
      "outputs": [
        {
          "output_type": "execute_result",
          "data": {
            "text/plain": [
              "'Hello. this movie was great . but I did not like the drama'"
            ],
            "application/vnd.google.colaboratory.intrinsic+json": {
              "type": "string"
            }
          },
          "metadata": {},
          "execution_count": 362
        }
      ]
    },
    {
      "cell_type": "code",
      "source": [
        "word_tokenize(r)"
      ],
      "metadata": {
        "colab": {
          "base_uri": "https://localhost:8080/"
        },
        "id": "vxc4ZGxY3rWz",
        "outputId": "8d19c034-d47c-414a-99eb-9a26e8c1fb72"
      },
      "execution_count": 364,
      "outputs": [
        {
          "output_type": "execute_result",
          "data": {
            "text/plain": [
              "['Hello',\n",
              " '.',\n",
              " 'this',\n",
              " 'movie',\n",
              " 'was',\n",
              " 'great',\n",
              " '.',\n",
              " 'but',\n",
              " 'I',\n",
              " 'did',\n",
              " 'not',\n",
              " 'like',\n",
              " 'the',\n",
              " 'drama']"
            ]
          },
          "metadata": {},
          "execution_count": 364
        }
      ]
    },
    {
      "cell_type": "code",
      "source": [
        "\"not\" in stopwords.words('english')"
      ],
      "metadata": {
        "colab": {
          "base_uri": "https://localhost:8080/"
        },
        "id": "fCCQUbng38do",
        "outputId": "c142e39e-8aa6-4b4a-f650-c6fd1c05877a"
      },
      "execution_count": 373,
      "outputs": [
        {
          "output_type": "execute_result",
          "data": {
            "text/plain": [
              "True"
            ]
          },
          "metadata": {},
          "execution_count": 373
        }
      ]
    },
    {
      "cell_type": "code",
      "source": [
        "string.punctuation"
      ],
      "metadata": {
        "colab": {
          "base_uri": "https://localhost:8080/",
          "height": 36
        },
        "id": "AnmOhkHL4XE1",
        "outputId": "e9456d41-d8d1-43e0-b18b-6a98b7217108"
      },
      "execution_count": 368,
      "outputs": [
        {
          "output_type": "execute_result",
          "data": {
            "text/plain": [
              "'!\"#$%&\\'()*+,-./:;<=>?@[\\\\]^_`{|}~'"
            ],
            "application/vnd.google.colaboratory.intrinsic+json": {
              "type": "string"
            }
          },
          "metadata": {},
          "execution_count": 368
        }
      ]
    },
    {
      "cell_type": "code",
      "source": [
        "def clean_review(review):\n",
        "  review = review.lower()\n",
        "  \n",
        "  # remove hyperlinks    \n",
        "  review = re.sub(r'https?://[^\\s\\n\\r]+', '', review)\n",
        "    \n",
        "  # remove HTML markup    \n",
        "  review = re.sub(r'<\\w*/?>', '', review)\n",
        "  \n",
        "  # remove hashtags sign\n",
        "  review = re.sub(r'#', '', review)\n",
        "\n",
        "  # remove multiple dots\n",
        "  review = re.sub(r'[.,]+', '.', review)\n",
        "\n",
        "  words = word_tokenize(review)\n",
        "  words_clean = []\n",
        "  stemmer = PorterStemmer()\n",
        "  \n",
        "  for word in words:\n",
        "    # remove stopwords and punctuation\n",
        "    if (word == \"not\" or\n",
        "        (word not in stopwords.words('english')+['br'] \n",
        "        and word not in string.punctuation\n",
        "        and word not in ['\"\"',\"''\",\"``\"])):\n",
        "      word_stem = stemmer.stem(word)\n",
        "      words_clean.append(word_stem)\n",
        "\n",
        "  return words_clean"
      ],
      "metadata": {
        "id": "Q_fR-qTT7FOA"
      },
      "execution_count": 504,
      "outputs": []
    },
    {
      "cell_type": "code",
      "source": [
        "clean_review(\"Hello ..... what is up?\")"
      ],
      "metadata": {
        "colab": {
          "base_uri": "https://localhost:8080/"
        },
        "id": "pQ_Rhe4CKiqv",
        "outputId": "da6ecd75-219d-4249-8653-7ae230f533ed"
      },
      "execution_count": 96,
      "outputs": [
        {
          "output_type": "execute_result",
          "data": {
            "text/plain": [
              "['hello']"
            ]
          },
          "metadata": {},
          "execution_count": 96
        }
      ]
    },
    {
      "cell_type": "code",
      "source": [
        "clean_review(df['text'].tolist()[-1])"
      ],
      "metadata": {
        "id": "poQNZxxHKR3Q",
        "colab": {
          "base_uri": "https://localhost:8080/"
        },
        "outputId": "2eed9d33-7f8a-47e0-a0b9-a1c09b7f2927"
      },
      "execution_count": 97,
      "outputs": [
        {
          "output_type": "execute_result",
          "data": {
            "text/plain": [
              "['compel',\n",
              " 'honest',\n",
              " 'dare',\n",
              " 'unforgett',\n",
              " 'psycholog',\n",
              " 'horror',\n",
              " 'film',\n",
              " 'touch',\n",
              " 'pain',\n",
              " 'experi',\n",
              " 'pain',\n",
              " 'caus',\n",
              " 'rape',\n",
              " 'descent',\n",
              " 'film',\n",
              " 'went',\n",
              " 'under-the-radar',\n",
              " 'due',\n",
              " 'lack',\n",
              " 'distribut',\n",
              " 'frankli',\n",
              " 'film',\n",
              " 'brutal',\n",
              " 'depict',\n",
              " 'releas',\n",
              " 'theatric',\n",
              " 'may',\n",
              " 'met',\n",
              " 'strong',\n",
              " 'bias',\n",
              " 'hate.on',\n",
              " 'best',\n",
              " 'film',\n",
              " 'year',\n",
              " '2007',\n",
              " 'strong',\n",
              " 'one',\n",
              " 'underr',\n",
              " 'intellig',\n",
              " 'film',\n",
              " 'hit',\n",
              " 'theatric',\n",
              " 'releas',\n",
              " 'would',\n",
              " 'scream',\n",
              " 'prais',\n",
              " 'well',\n",
              " 'dawson',\n",
              " 'faust',\n",
              " 'bad',\n",
              " 'way',\n",
              " 'blunt',\n",
              " 'widespread',\n",
              " 'appeal',\n",
              " 'film',\n",
              " 'like',\n",
              " 'deserv',\n",
              " 'better']"
            ]
          },
          "metadata": {},
          "execution_count": 97
        }
      ]
    },
    {
      "cell_type": "code",
      "source": [
        "def generate_count_freq_fastai(reviews, labels):\n",
        "  pos_counts = {}\n",
        "  neg_counts = {}\n",
        "  for i in range(len(reviews)):\n",
        "    label = labels[i]\n",
        "    review = reviews[i]\n",
        "    for word in clean_review(review):\n",
        "      if str(label) == 'positive':\n",
        "        current = pos_counts.get(word,0)\n",
        "        pos_counts[word] = current + 1\n",
        "      elif str(label) == 'negative':\n",
        "        current = neg_counts.get(word,0)\n",
        "        neg_counts[word] = current + 1\n",
        "  return pos_counts, neg_counts"
      ],
      "metadata": {
        "id": "GTEeKITUGM5X"
      },
      "execution_count": 286,
      "outputs": []
    },
    {
      "cell_type": "code",
      "source": [
        "def generate_count_freq_hf(reviews, labels):\n",
        "  pos_counts = {}\n",
        "  neg_counts = {}\n",
        "  for i in range(len(reviews)):\n",
        "    label = labels[i]\n",
        "    review = reviews[i]\n",
        "    for word in clean_review(review):\n",
        "      if label == 1:\n",
        "        current = pos_counts.get(word,0)\n",
        "        pos_counts[word] = current + 1\n",
        "      elif label == 0:\n",
        "        current = neg_counts.get(word,0)\n",
        "        neg_counts[word] = current + 1\n",
        "  return pos_counts, neg_counts"
      ],
      "metadata": {
        "id": "6q6t2wy5ooFF"
      },
      "execution_count": 383,
      "outputs": []
    },
    {
      "cell_type": "code",
      "source": [
        "train_x_alt = df['text'].tolist()\n",
        "train_y_alt = df['label'].tolist()"
      ],
      "metadata": {
        "id": "CxjgsjyrUEcL"
      },
      "execution_count": 289,
      "outputs": []
    },
    {
      "cell_type": "code",
      "source": [
        "'''\n",
        "\n",
        "Calculate word counts in positive/negative reviews\n",
        "\n",
        "'''\n",
        "pos,neg = generate_count_freq_hf(train_x, train_y)"
      ],
      "metadata": {
        "id": "UghTI8M5IVRg"
      },
      "execution_count": 505,
      "outputs": []
    },
    {
      "cell_type": "code",
      "source": [
        "print(len(pos), len(neg))"
      ],
      "metadata": {
        "colab": {
          "base_uri": "https://localhost:8080/"
        },
        "id": "SRMjVE3DK88E",
        "outputId": "84d5d4cb-43e5-42ae-a2fd-fe67e01c6216"
      },
      "execution_count": 401,
      "outputs": [
        {
          "output_type": "stream",
          "name": "stdout",
          "text": [
            "9488 9213\n"
          ]
        }
      ]
    },
    {
      "cell_type": "code",
      "source": [
        "list(pos.items())[:10]"
      ],
      "metadata": {
        "colab": {
          "base_uri": "https://localhost:8080/"
        },
        "id": "Kt0ouJRfIj5m",
        "outputId": "fd703b74-3cdd-4322-d763-f6157b0bd693"
      },
      "execution_count": 386,
      "outputs": [
        {
          "output_type": "execute_result",
          "data": {
            "text/plain": [
              "[('read', 58),\n",
              " ('quit', 84),\n",
              " ('neg', 12),\n",
              " ('view', 48),\n",
              " ('movi', 918),\n",
              " ('not', 599),\n",
              " ('sure', 58),\n",
              " ('whether', 19),\n",
              " ('fork', 1),\n",
              " ('money', 34)]"
            ]
          },
          "metadata": {},
          "execution_count": 386
        }
      ]
    },
    {
      "cell_type": "code",
      "source": [
        "list(neg.items())[:10]"
      ],
      "metadata": {
        "colab": {
          "base_uri": "https://localhost:8080/"
        },
        "id": "hVUMZzg06n_0",
        "outputId": "7ee41ea9-ab57-4578-c61d-3f94a951ac6a"
      },
      "execution_count": 387,
      "outputs": [
        {
          "output_type": "execute_result",
          "data": {
            "text/plain": [
              "[('rent', 29),\n",
              " ('curious-yellow', 3),\n",
              " ('video', 41),\n",
              " ('store', 17),\n",
              " ('controversi', 8),\n",
              " ('surround', 9),\n",
              " ('first', 161),\n",
              " ('releas', 32),\n",
              " ('1967.', 1),\n",
              " ('also', 137)]"
            ]
          },
          "metadata": {},
          "execution_count": 387
        }
      ]
    },
    {
      "cell_type": "code",
      "source": [
        "pos_sorted = sorted(pos.items(), key=lambda x:-x[1])"
      ],
      "metadata": {
        "id": "JK9J-B6OI6mH"
      },
      "execution_count": 402,
      "outputs": []
    },
    {
      "cell_type": "code",
      "source": [
        "pos_sorted[:20]"
      ],
      "metadata": {
        "colab": {
          "base_uri": "https://localhost:8080/"
        },
        "id": "swD1v9bWLo8x",
        "outputId": "6c07a3f9-6a67-42da-eda8-0b29d92277fc"
      },
      "execution_count": 403,
      "outputs": [
        {
          "output_type": "execute_result",
          "data": {
            "text/plain": [
              "[(\"'s\", 1446),\n",
              " ('film', 1001),\n",
              " ('movi', 918),\n",
              " ('not', 599),\n",
              " ('one', 580),\n",
              " (\"n't\", 542),\n",
              " ('like', 384),\n",
              " ('time', 349),\n",
              " ('good', 327),\n",
              " ('see', 302),\n",
              " ('show', 286),\n",
              " ('get', 284),\n",
              " ('watch', 281),\n",
              " ('stori', 279),\n",
              " ('great', 272),\n",
              " ('would', 267),\n",
              " ('make', 264),\n",
              " ('charact', 261),\n",
              " ('also', 252),\n",
              " ('even', 225)]"
            ]
          },
          "metadata": {},
          "execution_count": 403
        }
      ]
    },
    {
      "cell_type": "code",
      "source": [
        "neg_sorted = sorted(neg.items(), key=lambda x:-x[1])\n",
        "neg_sorted[:20]"
      ],
      "metadata": {
        "colab": {
          "base_uri": "https://localhost:8080/"
        },
        "id": "SqebU0bDMVXu",
        "outputId": "53563416-f3d5-4d39-80f7-c255ec95a538"
      },
      "execution_count": 404,
      "outputs": [
        {
          "output_type": "execute_result",
          "data": {
            "text/plain": [
              "[(\"'s\", 1142),\n",
              " ('movi', 1015),\n",
              " ('film', 900),\n",
              " (\"n't\", 723),\n",
              " ('not', 627),\n",
              " ('one', 514),\n",
              " ('like', 445),\n",
              " ('even', 301),\n",
              " ('make', 289),\n",
              " ('would', 278),\n",
              " ('watch', 276),\n",
              " ('get', 275),\n",
              " ('stori', 272),\n",
              " ('good', 271),\n",
              " ('bad', 271),\n",
              " ('time', 268),\n",
              " ('charact', 253),\n",
              " ('see', 239),\n",
              " ('realli', 230),\n",
              " ('scene', 226)]"
            ]
          },
          "metadata": {},
          "execution_count": 404
        }
      ]
    },
    {
      "cell_type": "code",
      "source": [
        "pos['bad']"
      ],
      "metadata": {
        "colab": {
          "base_uri": "https://localhost:8080/"
        },
        "id": "b5AQBQiYOQds",
        "outputId": "22018158-422b-4e6f-cb0c-3b20231f336d"
      },
      "execution_count": 406,
      "outputs": [
        {
          "output_type": "execute_result",
          "data": {
            "text/plain": [
              "72"
            ]
          },
          "metadata": {},
          "execution_count": 406
        }
      ]
    },
    {
      "cell_type": "code",
      "source": [
        "pos_words = {k for k in pos.keys()}\n",
        "neg_words = {k for k in neg.keys()}\n",
        "total_words = pos_words.union(neg_words)\n",
        "print(len(pos_words) + len(neg_words))\n",
        "len(total_words)"
      ],
      "metadata": {
        "colab": {
          "base_uri": "https://localhost:8080/"
        },
        "id": "6Y9miahuUUoz",
        "outputId": "5bf3563d-603b-4957-8ca3-0f94cda47eeb"
      },
      "execution_count": 499,
      "outputs": [
        {
          "output_type": "stream",
          "name": "stdout",
          "text": [
            "28185\n"
          ]
        },
        {
          "output_type": "execute_result",
          "data": {
            "text/plain": [
              "21261"
            ]
          },
          "metadata": {},
          "execution_count": 499
        }
      ]
    },
    {
      "cell_type": "code",
      "source": [],
      "metadata": {
        "id": "y-JLzYH7gR_K"
      },
      "execution_count": null,
      "outputs": []
    },
    {
      "cell_type": "markdown",
      "source": [
        "# Naive Bayes"
      ],
      "metadata": {
        "id": "-ZvdP1GFKZ3Z"
      }
    },
    {
      "cell_type": "markdown",
      "source": [
        "- P (pos|\"Loved the movie\") = ?\n",
        "- P (pos|\"Loved the movie\") = P(pos) * P(\"Loved the movie\"|pos) / P(\"Loved the movie\")\n",
        "  - P(pos) = pos_review_count / all_reviews_count\n",
        "  - P(\"Loved the movie\" | pos) = P(\"Loved\" | pos) x P(\"the\" | pos) x P(\"move\" | pos)\n",
        "    - P(\"Loved\" | pos) = loved_count / positive_words_count\n",
        "    - P(\"the\" | pos)\n",
        "    - P(\"movie\" | pos)\n",
        "  - P(\"Loved the movie\") = this_specific_review / all_review_count ~ constant (1/all_review_count) "
      ],
      "metadata": {
        "id": "Chgt8rTgOudZ"
      }
    },
    {
      "cell_type": "code",
      "source": [
        "import numpy as np\n",
        "a = ['positive','negative']\n",
        "np.array(a) == 'positive' * 1"
      ],
      "metadata": {
        "colab": {
          "base_uri": "https://localhost:8080/"
        },
        "id": "uX3rN3XAVcLK",
        "outputId": "7d8daef6-7c5e-43c1-cfad-468b50c14397"
      },
      "execution_count": 409,
      "outputs": [
        {
          "output_type": "execute_result",
          "data": {
            "text/plain": [
              "array([ True, False])"
            ]
          },
          "metadata": {},
          "execution_count": 409
        }
      ]
    },
    {
      "cell_type": "code",
      "source": [
        "np.array(train_y[:10] == 1) * 1"
      ],
      "metadata": {
        "colab": {
          "base_uri": "https://localhost:8080/"
        },
        "id": "ZeI4rxCY9JsR",
        "outputId": "f829ee54-4d44-42e8-a923-11d8e02f474d"
      },
      "execution_count": 420,
      "outputs": [
        {
          "output_type": "execute_result",
          "data": {
            "text/plain": [
              "0"
            ]
          },
          "metadata": {},
          "execution_count": 420
        }
      ]
    },
    {
      "cell_type": "code",
      "source": [
        "def word_log_likelihood(pos,neg,reviews,labels):\n",
        "  pos_words = {k for k in pos.keys()}\n",
        "  neg_words = {k for k in neg.keys()}\n",
        "  total_words = pos_words.union(neg_words)\n",
        "\n",
        "  pos_word_count = len(pos_words)\n",
        "  neg_word_count = len(neg_words)\n",
        "  total_word_count = len(total_words)\n",
        "\n",
        "  review_count = len(reviews)\n",
        "  pos_review_count = sum(np.array(labels))\n",
        "  neg_review_count = review_count-pos_review_count\n",
        "\n",
        "  log_likelihood = {}\n",
        "  pos_prob = {}\n",
        "  neg_prob = {}\n",
        "  for word in total_words:\n",
        "        freq_pos = pos.get(word,0)\n",
        "        freq_neg = neg.get(word,0)\n",
        "\n",
        "        # calculate the probability that each word is positive, and negative\n",
        "        pos_prob[word] = (freq_pos + 1)/(pos_word_count + total_word_count)\n",
        "        neg_prob[word] = (freq_neg + 1)/(neg_word_count + total_word_count)\n",
        "\n",
        "        # calculate the log likelihood of the word\n",
        "        \n",
        "        log_likelihood[word] = np.log(pos_prob[word])-np.log(neg_prob[word])\n",
        "\n",
        "  return pos_prob, neg_prob, log_likelihood\n"
      ],
      "metadata": {
        "id": "xj2CwooXKbTi"
      },
      "execution_count": 454,
      "outputs": []
    },
    {
      "cell_type": "code",
      "source": [
        "'''\n",
        "\n",
        "Calculate word positive/negative sentiment \n",
        "\n",
        "'''\n",
        "pos_prob, neg_prob, log_likelihood = word_log_likelihood(pos,neg,train_x,train_y)"
      ],
      "metadata": {
        "id": "ip_rJOveI5-s"
      },
      "execution_count": 506,
      "outputs": []
    },
    {
      "cell_type": "code",
      "source": [
        "len(log_likelihood)"
      ],
      "metadata": {
        "colab": {
          "base_uri": "https://localhost:8080/"
        },
        "id": "K8VDsDHgWn9C",
        "outputId": "3ed16272-9e79-4ff1-9d68-d6779015c259"
      },
      "execution_count": 456,
      "outputs": [
        {
          "output_type": "execute_result",
          "data": {
            "text/plain": [
              "14235"
            ]
          },
          "metadata": {},
          "execution_count": 456
        }
      ]
    },
    {
      "cell_type": "code",
      "source": [
        "list(pos_prob.items())[:10]"
      ],
      "metadata": {
        "colab": {
          "base_uri": "https://localhost:8080/"
        },
        "id": "iI9FZdssjvGm",
        "outputId": "c77788c1-42ee-46d3-ad60-8bb086bb0e85"
      },
      "execution_count": 457,
      "outputs": [
        {
          "output_type": "execute_result",
          "data": {
            "text/plain": [
              "[('papua', 4.2153184673102054e-05),\n",
              " ('city.', 8.430636934620411e-05),\n",
              " ('serpent', 8.430636934620411e-05),\n",
              " ('head-to-to', 4.2153184673102054e-05),\n",
              " ('comport', 4.2153184673102054e-05),\n",
              " ('fulfil', 0.00016861273869240822),\n",
              " ('snowi', 4.2153184673102054e-05),\n",
              " ('coleman', 0.00021076592336551027),\n",
              " ('relentless', 4.2153184673102054e-05),\n",
              " ('deer-in-the-headlight', 4.2153184673102054e-05)]"
            ]
          },
          "metadata": {},
          "execution_count": 457
        }
      ]
    },
    {
      "cell_type": "code",
      "source": [
        "log_likelihood_sorted = sorted(log_likelihood.items(), key = lambda x:-x[1])"
      ],
      "metadata": {
        "id": "ryjJ5SJfWskP"
      },
      "execution_count": 458,
      "outputs": []
    },
    {
      "cell_type": "code",
      "source": [
        "log_likelihood_sorted[:20]"
      ],
      "metadata": {
        "colab": {
          "base_uri": "https://localhost:8080/"
        },
        "id": "GtxW0zDkW8yR",
        "outputId": "5558512f-9f49-4a25-a9b4-17a6321ac51c"
      },
      "execution_count": 459,
      "outputs": [
        {
          "output_type": "execute_result",
          "data": {
            "text/plain": [
              "[('biko', 4.442687457981871),\n",
              " ('sirk', 4.278799602876755),\n",
              " ('malon', 4.031391429562914),\n",
              " ('hudson', 3.9201657944526893),\n",
              " ('muppet', 3.7838293509005583),\n",
              " ('beetl', 3.7725297956466255),\n",
              " ('sniper', 3.7725297956466255),\n",
              " ('bacal', 3.749540277421926),\n",
              " ('gypo', 3.6259263214547497),\n",
              " ('hanzo', 3.6259263214547497),\n",
              " ('mitch', 3.571859100184474),\n",
              " ('kriemhild', 3.484847723194844),\n",
              " ('streisand', 3.4223273662135103),\n",
              " ('freddi', 3.389537543390519),\n",
              " ('stack', 3.3556359917148377),\n",
              " ('melodrama', 3.3205446719035674),\n",
              " ('krell', 3.3205446719035674),\n",
              " ('hadley', 3.3205446719035674),\n",
              " ('fu', 3.3205446719035674),\n",
              " ('elvi', 3.284177027732693)]"
            ]
          },
          "metadata": {},
          "execution_count": 459
        }
      ]
    },
    {
      "cell_type": "code",
      "source": [
        "log_likelihood_sorted[-20:]"
      ],
      "metadata": {
        "colab": {
          "base_uri": "https://localhost:8080/"
        },
        "id": "LzS3GqNIXB5J",
        "outputId": "97e0756f-65ab-4b62-c5d8-f210574e8abb"
      },
      "execution_count": 460,
      "outputs": [
        {
          "output_type": "execute_result",
          "data": {
            "text/plain": [
              "[('bacon', -2.844873182327853),\n",
              " ('goldi', -2.844873182327853),\n",
              " ('artemisia', -2.9020315961678014),\n",
              " ('stratten', -2.9020315961678014),\n",
              " ('comedian', -2.956098817438077),\n",
              " ('chick', -2.956098817438077),\n",
              " ('turtl', -3.007392111825628),\n",
              " ('hollow', -3.007392111825628),\n",
              " ('laura', -3.007392111825628),\n",
              " ('dub', -3.007392111825628),\n",
              " ('ned', -3.0561822759950603),\n",
              " ('kay', -3.102702291629953),\n",
              " ('hepburn', -3.1471540542007865),\n",
              " ('sandler', -3.2103329558223184),\n",
              " ('foxx', -3.230535663139838),\n",
              " ('franco', -3.2697563762931194),\n",
              " ('blank', -3.2697563762931194),\n",
              " ('valentin', -3.5380203628877984),\n",
              " ('cannib', -3.725231904975945),\n",
              " ('zizek', -3.7493294565550057)]"
            ]
          },
          "metadata": {},
          "execution_count": 460
        }
      ]
    },
    {
      "cell_type": "code",
      "source": [
        "import builtins\n",
        "range = builtins.range\n",
        "ranges = 10\n",
        "top = [word for word, likelihood in log_likelihood_sorted[:ranges]]\n",
        "bottom = [word for word, likelihood in log_likelihood_sorted[-ranges:]]\n",
        "\n",
        "top_word_list = []\n",
        "top_word_list.extend(bottom)\n",
        "top_word_list.extend(top)"
      ],
      "metadata": {
        "id": "vgdZesjagbwt"
      },
      "execution_count": 461,
      "outputs": []
    },
    {
      "cell_type": "code",
      "source": [],
      "metadata": {
        "id": "JeblO_B0lf1f"
      },
      "execution_count": null,
      "outputs": []
    },
    {
      "cell_type": "code",
      "source": [
        "\n",
        "import matplotlib.pyplot as plt # Library for plots\n",
        "\n",
        "fig, ax = plt.subplots(figsize = (15, 15))\n",
        "\n",
        "pp = []\n",
        "nn = []\n",
        "colors = []\n",
        "for w in top_word_list:\n",
        "  pp.append(pos_prob[w])\n",
        "  nn.append(neg_prob[w])\n",
        "\n",
        "# convert positive raw counts to logarithmic scale. we add 1 to avoid log(0)\n",
        "x = np.log([x + 1 for x in pp])  \n",
        "y = np.log([y + 1 for y in nn]) \n",
        "\n",
        "# Plot a dot for each pair of words\n",
        "ax.scatter(x, y)  \n",
        "\n",
        "# assign axis labels\n",
        "plt.xlabel(\"Log Positive count\")\n",
        "plt.ylabel(\"Log Negative count\")\n",
        "\n",
        "# Add the word as the label at the same position as you added the points just before\n",
        "for i,word in enumerate(top_word_list):\n",
        "    ax.annotate(word, (x[i], y[i]), fontsize=10)\n",
        "\n",
        "ax.plot([0, 0.0025],[0, 0.0025], color = 'red') # Plot the red line that divides the 2 areas.\n",
        "plt.show()"
      ],
      "metadata": {
        "colab": {
          "base_uri": "https://localhost:8080/",
          "height": 877
        },
        "id": "vBWDQGize3rv",
        "outputId": "e4699492-d7c8-4dbc-afef-2c113882cff7"
      },
      "execution_count": 511,
      "outputs": [
        {
          "output_type": "display_data",
          "data": {
            "text/plain": [
              "<Figure size 1080x1080 with 1 Axes>"
            ],
            "image/png": "[encoded data removed]"
          },
          "metadata": {
            "needs_background": "light"
          }
        }
      ]
    },
    {
      "cell_type": "code",
      "source": [
        "def predict_naive_bayes(review, log_likelihood, ratio=1):\n",
        "  p = 0\n",
        "  for word in clean_review(review):\n",
        "    p += log_likelihood.get(word,0)\n",
        "  \n",
        "  p += math.log(ratio)\n",
        "  return p"
      ],
      "metadata": {
        "id": "sxde3A8ilgtP"
      },
      "execution_count": 436,
      "outputs": []
    },
    {
      "cell_type": "code",
      "source": [
        "test_x[50]"
      ],
      "metadata": {
        "colab": {
          "base_uri": "https://localhost:8080/",
          "height": 128
        },
        "id": "GCg_wHHQIfD7",
        "outputId": "7df92a04-db67-4ac4-f79e-f0f26640bb8d"
      },
      "execution_count": 475,
      "outputs": [
        {
          "output_type": "execute_result",
          "data": {
            "text/plain": [
              "'OK, so my summary line is a cheap trick. But the movie is full of them and it gets absurdly praised, so...<br /><br />I caught this one on TV (uncut, as TV here shows all movies, that\\'s for you Americans who might say I didn\\'t like it because I saw a cut TV version - fortunately that\\'s only an US thing), and had no idea about what it was. I switched on, caught the last minutes of a show, and the movie began. Within a minute, I was begging it was a comedy, given the particularly ridiculous clichéd beginning (yes, it\\'s a bad movie-within-the-movie, I know, but what a way to try to keep the viewer interested! I don\\'t even know why I didn\\'t switch channels). And, yes, in fact the movie turned out to be a comedy, albeit an unintentional one.<br /><br />Marina Zudina is pretty enough, but gosh, what a dreadful performance! While casting a foreigner in the role is smart enough (she doesn\\'t talk so bye bye language barrier), yet, sorry, Marina baby, playing mute doesn\\'t mean impersonating Harpo Marx. Her acting is unintentionally funny in many moments, just look at her when she draws an X in the air while stalked by the killer. He wants to kill you, it\\'s no time to play Zorro. We get plenty of \"running upstairs\" stuff passing for tension, as in the worst slashers, and things like pulling a carpet and a bad guy shots the other. Ugh! Will Hollywood ever learn? Yet the best/worst pearl is having a guy electrocuted in a bathtub and... Well, I have never seen anyone being electrocuted to death in a bathtub, but I\\'m sure you can\\'t see the blue cartoon rays in real life, do you? And how about immediately trusting a mean-looking guy because he SAYS he\\'s a cop, and not asking him to show you his credentials? OK, so he turns out to be a real cop. But still, not asking for the badge makes no sense (plot-wise, we could always think the credentials might be phony or he might be a crooked cop. Screen writing 101). And how about the big twist? Don\\'t tell me you didn\\'t see that coming from 200 miles away...<br /><br />I feel sorry for poor old Alec Guinness and his useless stock footage cameo. Now I think about this, what\\'s the point in giving him a \"Mystery Guest Star\" credit... in the END titles? The movie\\'s over, there\\'s no mystery anymore, and everybody and their brother have identified Guinness (even non-movie buffs will recognize \"the old guy from \\'Star Wars\\'\"). Yet better off this way, so we can pretend it\\'s not the late great actor.<br /><br />People keep comparing this to, of all people, Hitchcock. I suppose it has to be John Hitchcock the milkman, as the late Sir Alfred would feel embarrassed out of watching this, let alone making it. And this gets a 6.8/10???? It\\'s Bottom 100 material! But then, we\\'re talking a rating system that allows \\'The Lord of the Rings: The Return of the King\\' to appear as the third best movie ever made (check Top 100), so...<br /><br />2/10.'"
            ],
            "application/vnd.google.colaboratory.intrinsic+json": {
              "type": "string"
            }
          },
          "metadata": {},
          "execution_count": 475
        }
      ]
    },
    {
      "cell_type": "code",
      "source": [
        "test_y[50]"
      ],
      "metadata": {
        "colab": {
          "base_uri": "https://localhost:8080/"
        },
        "id": "6O3V4jtMIiSt",
        "outputId": "a9fe86f5-f530-4b9c-b2cc-75e37a22cdd9"
      },
      "execution_count": 476,
      "outputs": [
        {
          "output_type": "execute_result",
          "data": {
            "text/plain": [
              "0"
            ]
          },
          "metadata": {},
          "execution_count": 476
        }
      ]
    },
    {
      "cell_type": "code",
      "source": [
        "predict_naive_bayes(test_x[50],log_likelihood,1)"
      ],
      "metadata": {
        "colab": {
          "base_uri": "https://localhost:8080/"
        },
        "id": "ia1pGq2pl9oB",
        "outputId": "fa044aec-dd64-4f3f-f149-348628364059"
      },
      "execution_count": 478,
      "outputs": [
        {
          "output_type": "execute_result",
          "data": {
            "text/plain": [
              "-26.77134465043882"
            ]
          },
          "metadata": {},
          "execution_count": 478
        }
      ]
    },
    {
      "cell_type": "code",
      "source": [
        "def predict(reviews,labels,log_likelihood,ratio=1):\n",
        "    accuracy = 0 \n",
        "\n",
        "    y_predict = []\n",
        "    for review in reviews:\n",
        "        if predict_naive_bayes(review, log_likelihood, ratio) > 0:\n",
        "            pred = 1\n",
        "        else:\n",
        "            pred = 0\n",
        "        y_predict.append(pred)\n",
        "\n",
        "    accuracy = np.sum(np.array(y_predict) == np.array(labels)) / len(labels)\n",
        "    return y_predict, accuracy"
      ],
      "metadata": {
        "id": "ge8plaAy-W8r"
      },
      "execution_count": 493,
      "outputs": []
    },
    {
      "cell_type": "code",
      "source": [
        "'''\n",
        "\n",
        "Evaluate model accuracy - based on test dataset\n",
        "\n",
        "'''\n",
        "y_predict, acc = predict(test_x,test_y,log_likelihood)"
      ],
      "metadata": {
        "id": "3PZAQfSMAqqX"
      },
      "execution_count": 507,
      "outputs": []
    },
    {
      "cell_type": "code",
      "source": [
        "acc\n",
        "# ~0.766 - when trained on 1000 reviews\n",
        "# ~0.814 - when trained on 4000 rewiews"
      ],
      "metadata": {
        "colab": {
          "base_uri": "https://localhost:8080/"
        },
        "id": "DvfJU_jgAwBA",
        "outputId": "59aa9269-57ae-4833-8508-5151a6a095d3"
      },
      "execution_count": 508,
      "outputs": [
        {
          "output_type": "execute_result",
          "data": {
            "text/plain": [
              "0.814"
            ]
          },
          "metadata": {},
          "execution_count": 508
        }
      ]
    },
    {
      "cell_type": "code",
      "source": [
        "acc"
      ],
      "metadata": {
        "colab": {
          "base_uri": "https://localhost:8080/"
        },
        "id": "oJ0Y5Lr3X5VZ",
        "outputId": "d8893f31-24df-4fd2-b0ef-0a5e13191379"
      },
      "execution_count": 501,
      "outputs": [
        {
          "output_type": "execute_result",
          "data": {
            "text/plain": [
              "0.766"
            ]
          },
          "metadata": {},
          "execution_count": 501
        }
      ]
    },
    {
      "cell_type": "code",
      "source": [
        "print(y_predict[:20])\n",
        "print(test_y[:20])\n",
        "sum(y_predict)"
      ],
      "metadata": {
        "colab": {
          "base_uri": "https://localhost:8080/"
        },
        "id": "uM5fUJ1gAwm1",
        "outputId": "ac52ba77-8de8-4d51-bacf-940b3d7d4615"
      },
      "execution_count": 482,
      "outputs": [
        {
          "output_type": "stream",
          "name": "stdout",
          "text": [
            "[0, 0, 0, 1, 1, 1, 1, 0, 0, 0, 0, 1, 0, 0, 0, 0, 0, 0, 1, 0]\n",
            "[0, 0, 0, 0, 0, 0, 0, 0, 0, 0, 0, 0, 0, 0, 0, 0, 0, 0, 0, 0]\n"
          ]
        },
        {
          "output_type": "execute_result",
          "data": {
            "text/plain": [
              "606"
            ]
          },
          "metadata": {},
          "execution_count": 482
        }
      ]
    },
    {
      "cell_type": "code",
      "source": [],
      "metadata": {
        "id": "bP_4-sr1BYAi"
      },
      "execution_count": null,
      "outputs": []
    }
  ]
}